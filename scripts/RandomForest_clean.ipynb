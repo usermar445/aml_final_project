{
  "cells": [
    {
      "cell_type": "markdown",
      "metadata": {
        "id": "view-in-github",
        "colab_type": "text"
      },
      "source": [
        "<a href=\"https://colab.research.google.com/github/usermar445/aml_final_project/blob/main/scripts/RandomForest_clean.ipynb\" target=\"_parent\"><img src=\"https://colab.research.google.com/assets/colab-badge.svg\" alt=\"Open In Colab\"/></a>"
      ]
    },
    {
      "cell_type": "code",
      "execution_count": 1,
      "metadata": {
        "colab": {
          "base_uri": "https://localhost:8080/"
        },
        "id": "Z4fkBdx4AvPP",
        "outputId": "69276f8c-c49f-474e-8e69-e569ab947fa3"
      },
      "outputs": [
        {
          "output_type": "stream",
          "name": "stdout",
          "text": [
            "Mounted at /content/drive\n"
          ]
        }
      ],
      "source": [
        "from google.colab import drive\n",
        "drive.mount('/content/drive')"
      ],
      "id": "Z4fkBdx4AvPP"
    },
    {
      "cell_type": "code",
      "execution_count": 40,
      "metadata": {
        "id": "huZb56oZCIWr"
      },
      "outputs": [],
      "source": [
        "\n",
        "import pandas as pd\n",
        "import matplotlib.pyplot as plt\n",
        "import numpy as np\n",
        "from matplotlib.colors import ListedColormap\n",
        "\n",
        "from sklearn.datasets import make_circles, make_classification, make_moons\n",
        "from sklearn.discriminant_analysis import QuadraticDiscriminantAnalysis\n",
        "from sklearn.ensemble import AdaBoostClassifier, RandomForestClassifier\n",
        "from sklearn.gaussian_process import GaussianProcessClassifier\n",
        "from sklearn.gaussian_process.kernels import RBF\n",
        "from sklearn.inspection import DecisionBoundaryDisplay\n",
        "from sklearn.model_selection import train_test_split\n",
        "from sklearn.naive_bayes import GaussianNB\n",
        "from sklearn.neighbors import KNeighborsClassifier\n",
        "from sklearn.neural_network import MLPClassifier\n",
        "from sklearn.pipeline import make_pipeline\n",
        "from sklearn.preprocessing import StandardScaler\n",
        "from sklearn.svm import SVC\n",
        "from sklearn.tree import DecisionTreeClassifier\n",
        "from sklearn.metrics import confusion_matrix\n",
        "from sklearn.metrics import multilabel_confusion_matrix\n",
        "import seaborn as sns\n",
        "from sklearn.preprocessing import Normalizer\n",
        "from sklearn.metrics import accuracy_score\n",
        "from sklearn.linear_model import LogisticRegression\n",
        "\n",
        "import lightgbm as lgb\n",
        "\n",
        "from sklearn.preprocessing import Normalizer\n",
        "from sklearn.decomposition import PCA\n",
        "from sklearn.impute import SimpleImputer\n",
        "import math\n",
        "\n",
        "from tqdm import tqdm\n",
        "from time import sleep\n",
        "\n",
        "from sklearn.model_selection import GridSearchCV, train_test_split\n",
        "\n",
        "from sklearn.model_selection import RandomizedSearchCV"
      ],
      "id": "huZb56oZCIWr"
    },
    {
      "cell_type": "code",
      "source": [
        "from imblearn.over_sampling import SMOTE"
      ],
      "metadata": {
        "id": "Xcw3jL4VOf0b"
      },
      "execution_count": 3,
      "outputs": [],
      "id": "Xcw3jL4VOf0b"
    },
    {
      "cell_type": "markdown",
      "source": [
        "# 0. Functions"
      ],
      "metadata": {
        "id": "cSo-NQUW16Mo"
      },
      "id": "cSo-NQUW16Mo"
    },
    {
      "cell_type": "markdown",
      "source": [
        "**Tree data functions**"
      ],
      "metadata": {
        "id": "YGaSEWMH3tcr"
      },
      "id": "YGaSEWMH3tcr"
    },
    {
      "cell_type": "code",
      "source": [
        "# re one-hot-encodes wilderness area and soiltype for tree data set\n",
        "\n",
        "# has to be executed on the original df\n",
        "def re_one_hot_encode_soiltype(data, drop=True):\n",
        "  soil = data.iloc[:, 14:54]\n",
        "  data['soil_type'] = soil.idxmax(1)\n",
        "  data['soil_type'] = data['soil_type'].replace(data['soil_type'].unique(), np.arange(1, data['soil_type'].nunique()+1))\n",
        "  if drop:\n",
        "    cols = data.iloc[:, 14:54].columns.to_list()\n",
        "    data = data.drop(columns=cols)\n",
        "  return data\n",
        "\n",
        "def re_one_hot_encode_wilderness(data, drop=True):\n",
        "  wilderness = data[['Wilderness_Area1', 'Wilderness_Area2', 'Wilderness_Area3', 'Wilderness_Area4']].copy()\n",
        "  data['wilderness_area'] = wilderness.idxmax(1)\n",
        "  data['wilderness_area'] = data['wilderness_area'].replace(data['wilderness_area'].unique(), np.arange(1, data['wilderness_area'].nunique()+1))\n",
        "  if drop:\n",
        "    data = data.drop(['Wilderness_Area1', 'Wilderness_Area2', 'Wilderness_Area3', 'Wilderness_Area4'], axis=1)\n",
        "  return data\n",
        "\n",
        "def re_one_hot_encode_categorical(data, drop=True):\n",
        "  return re_one_hot_encode_wilderness(re_one_hot_encode_soiltype(data, drop), drop)\n",
        "\n",
        "# helper method to split in features and labels\n",
        "def get_features_labels_tree(data, values=False):\n",
        "  X = data.drop(\"Cover_Type\", axis=1)\n",
        "  y = data.loc[:, 'Cover_Type']\n",
        "  if values:\n",
        "    return[X.values, y.values]\n",
        "  return [X, y]"
      ],
      "metadata": {
        "id": "T-5Rb6usVphI"
      },
      "execution_count": 4,
      "outputs": [],
      "id": "T-5Rb6usVphI"
    },
    {
      "cell_type": "markdown",
      "source": [
        "**Heloc functions**"
      ],
      "metadata": {
        "id": "uWSmtl-f3ynT"
      },
      "id": "uWSmtl-f3ynT"
    },
    {
      "cell_type": "code",
      "source": [
        "# helper function to determine indexes of rows containing only na values\n",
        "def get_indexes_nan_rows(data):\n",
        "  all_na = data.isna().all(axis=1)\n",
        "  all_na = all_na[all_na==True]\n",
        "  return all_na.index\n",
        "\n",
        "# returns percentage of missing values per column\n",
        "def get_missing_values_per_columns(data, columns, threshold):\n",
        "  missing = {}\n",
        "  problematic = []\n",
        "  for column in columns:\n",
        "    col = data.loc[:, column]\n",
        "    nans = np.isnan(col)\n",
        "    nans = nans[nans == True]\n",
        "    missing_values = len(nans)/len(col)\n",
        "    missing.update({column: missing_values})\n",
        "    if missing_values >= threshold:\n",
        "      problematic.append(column)\n",
        "  return [missing, problematic]\n",
        "\n",
        "#imputes missing values\n",
        "#because most of the features are very skewed, median seems more reasonable\n",
        "def impute_heloc(data):\n",
        "  imp_median = SimpleImputer(missing_values=np.nan, strategy='median')\n",
        "  columns = data.columns\n",
        "  indexes = data.index\n",
        "  imp_median.fit(data.values)\n",
        "  data = imp_median.transform(data.values)\n",
        "  data = pd.DataFrame(data, columns=columns)\n",
        "  data = data.set_index(indexes)\n",
        "  return data\n",
        "\n",
        "# wrapper function that prepares complete data set\n",
        "def prepare_data_heloc_train(data, drop_columns):\n",
        "  print(\"Inital dimensions:\", data.values.shape)\n",
        "  print(\"Recode labels\")\n",
        "  # replace labels with int values (because final submission needs to be 0, 1)\n",
        "  data['RiskPerformance'] = data['RiskPerformance'].replace(('Bad','Good'), (0,1))\n",
        "  # columns were determined in EDA\n",
        "  print(\"Drop columns\")\n",
        "  data = data.drop(drop_columns, axis=1)\n",
        "  print(\"New dimensions:\", data.values.shape)\n",
        "  print(\"Split in features and labels\")\n",
        "  # split to replace nas -> has to be done because complete NaS rows are excluded from prediction/training and will just be assigned fixed binomial probability classification\n",
        "  dfX = data.drop(\"RiskPerformance\", axis=1)\n",
        "  dfy = pd.DataFrame(data.loc[:, 'RiskPerformance'])\n",
        "  print(\"Replace nas\")\n",
        "  dfX[dfX<0] = np.nan\n",
        "  # get na rows index\n",
        "  na_indexes = get_indexes_nan_rows(dfX)\n",
        "  #drop na rows\n",
        "  dfX = dfX.drop(na_indexes)\n",
        "  dfy = dfy.drop(na_indexes)\n",
        "  print(\"Impute nas\")\n",
        "  dfX = impute_heloc(dfX)\n",
        "  return dfX.join(dfy)\n",
        "\n",
        "# wrapper function that prepares complete data set\n",
        "def prepare_data_heloc_test(data, drop_columns):\n",
        "  print(\"Inital dimensions:\", data.values.shape)\n",
        "  print(\"Recode labels\")\n",
        "  # replace labels with int values (because final submission needs to be 0, 1)\n",
        "  #data['RiskPerformance'] = data['RiskPerformance'].replace(('Bad','Good'), (0,1))\n",
        "  # columns were determined in EDA\n",
        "  print(\"Drop columns\")\n",
        "  data = data.drop(drop_columns, axis=1)\n",
        "  print(\"New dimensions:\", data.values.shape)\n",
        "  print(\"Split in features and labels\")\n",
        "  print(\"Replace nas\")\n",
        "  data[data<0] = np.nan\n",
        "  data = impute_heloc(data)\n",
        "  return data\n",
        "\n",
        "# helper method to split in features and labels\n",
        "def get_features_labels_heloc(data, values=False):\n",
        "  X = data.drop(\"RiskPerformance\", axis=1)\n",
        "  y = data.loc[:, 'RiskPerformance']\n",
        "  if values:\n",
        "    return[X.values, y.values]\n",
        "  return [X, y]"
      ],
      "metadata": {
        "id": "qcyui6Ex0Ykp"
      },
      "execution_count": 5,
      "outputs": [],
      "id": "qcyui6Ex0Ykp"
    },
    {
      "cell_type": "markdown",
      "source": [
        "**Higgs functions**"
      ],
      "metadata": {
        "id": "3KHWp2u75A-d"
      },
      "id": "3KHWp2u75A-d"
    },
    {
      "cell_type": "code",
      "source": [
        "\n",
        "# cleans and prepares data\n",
        "def clean_higgs_data(data, drop_columns, train=True):\n",
        "  print(\"Inital dimensions:\", data.values.shape)\n",
        "  if train:\n",
        "    # replace labels with int values (because final submission needs to be 0, 1)\n",
        "    data['Label'] = data['Label'].replace(('b','s'), (0,1))\n",
        "  #drop columns\n",
        "  data = data.drop(drop_columns, axis=1)\n",
        "  print(\"New dimensions:\", data.values.shape)\n",
        "  return data\n",
        "\n",
        "# helper function to get features and labels split\n",
        "def get_features_labels_higgs(data, values=False):\n",
        "  X = data.drop(\"Label\", axis=1)\n",
        "  y = data.loc[:, 'Label']\n",
        "  if values:\n",
        "    return[X.values, y.values]\n",
        "  return [X, y]"
      ],
      "metadata": {
        "id": "4UDO6dSJ5CZg"
      },
      "execution_count": 6,
      "outputs": [],
      "id": "4UDO6dSJ5CZg"
    },
    {
      "cell_type": "markdown",
      "source": [
        "**Prepare data**"
      ],
      "metadata": {
        "id": "RWzwDtoDPx-G"
      },
      "id": "RWzwDtoDPx-G"
    },
    {
      "cell_type": "code",
      "source": [
        "def make_datasets_ready(tree, heloc, drop_columns_heloc, higgs, drop_columns_higgs):\n",
        "  # two versions of tree data: one with one-hot-encoding one with categorical (lgb)\n",
        "  print(\"Preparing tree data...\")\n",
        "  print(\"Inital dimensions \", tree.values.shape)\n",
        "  print(\"New dimensions \", tree.values.shape)\n",
        "  print(\"Preparing tree data 2nd version...\")\n",
        "  print(\"Inital dimensions \", tree.values.shape)\n",
        "  lgb = re_one_hot_encode_categorical(tree)\n",
        "  print(\"New dimensions \", lgb.values.shape)\n",
        "  print(\"Preparing heloc data...\")\n",
        "  heloc_train = prepare_data_heloc_train(heloc, drop_columns_heloc)\n",
        "  print(\"Preparing higgs data...\")\n",
        "  higgs_train = clean_higgs_data(higgs, drop_columns_higgs)\n",
        "  return [tree, heloc_train, higgs_train, lgb]"
      ],
      "metadata": {
        "id": "-FteTzqyPzqF"
      },
      "execution_count": 7,
      "outputs": [],
      "id": "-FteTzqyPzqF"
    },
    {
      "cell_type": "code",
      "source": [
        "\n",
        "\n",
        "def make_datasets_ready_test(tree, heloc, drop_columns_heloc, higgs, drop_columns_higgs):\n",
        "  # two versions of tree data: one with one-hot-encoding one with categorical (lgb)\n",
        "  print(\"Preparing tree data...\")\n",
        "  print(\"Inital dimensions \", tree.values.shape)\n",
        "  print(\"New dimensions \", tree.values.shape)\n",
        "  print(\"Preparing tree data 2nd version...\")\n",
        "  print(\"Inital dimensions \", tree.values.shape)\n",
        "  lgb = re_one_hot_encode_categorical(tree)\n",
        "  print(\"New dimensions \", lgb.values.shape)\n",
        "  print(\"Preparing heloc data...\")\n",
        "  heloc_train = prepare_data_heloc_test(heloc, drop_columns_heloc)\n",
        "  print(\"Preparing higgs data...\")\n",
        "  higgs_train = clean_higgs_data(higgs, drop_columns_higgs, train=False)\n",
        "  return [tree, heloc_train, higgs_train, lgb]"
      ],
      "metadata": {
        "id": "BpEnYhrAv-0x"
      },
      "execution_count": 8,
      "outputs": [],
      "id": "BpEnYhrAv-0x"
    },
    {
      "cell_type": "code",
      "source": [
        "def get_training_ready_data(data, full_train=False, split=0.2):\n",
        "  # first keep data as dataframes to extract columns names (used for LightGBM)\n",
        "  dfXs = [get_features_labels_tree(data[0])[0], get_features_labels_heloc(data[1])[0], get_features_labels_higgs(data[2])[0], get_features_labels_tree(data[3])[0]]\n",
        "  dfys = [get_features_labels_tree(data[0])[1], get_features_labels_heloc(data[1])[1], get_features_labels_higgs(data[2])[1], get_features_labels_tree(data[3])[1]]\n",
        "  column_names = [dat.columns.to_list() for dat in dfXs]\n",
        "\n",
        "  #only get values\n",
        "  X = [get_features_labels_tree(data[0], values=True)[0], get_features_labels_heloc(data[1], values=True)[0], get_features_labels_higgs(data[2], values=True)[0], get_features_labels_tree(data[3], values=True)[0]]\n",
        "  y = [get_features_labels_tree(data[0], values=True)[1], get_features_labels_heloc(data[1], values=True)[1], get_features_labels_higgs(data[2], values=True)[1], get_features_labels_tree(data[3], values=True)[1]]\n",
        "\n",
        "  if full_train:\n",
        "      n_features = [x.shape[1] for x in X]\n",
        "      n_rows = [x.shape[0] for x in X]\n",
        "      print(\"number of features \", n_features)\n",
        "      print(\"number of rows \", n_rows)\n",
        "      labels = [np.unique(goal) for goal in y]\n",
        "      n_labels = [len(np.unique(goal)) for goal in y]\n",
        "      print(\"labels: \", labels)\n",
        "      print(\"number of labels \", n_labels)\n",
        "      return X, y\n",
        "  else:\n",
        "    #split in train and validation set\n",
        "    X_train_tree, X_test_tree, y_train_tree, y_test_tree = train_test_split(X[0], y[0], test_size=split, random_state=42)\n",
        "    X_train_heloc, X_test_heloc, y_train_heloc, y_test_heloc = train_test_split(X[1], y[1], test_size=split, random_state=42)\n",
        "    X_train_higgs, X_test_higgs, y_train_higgs, y_test_higgs = train_test_split(X[2], y[2], test_size=split, random_state=42)\n",
        "    X_train_tree_lgb, X_test_tree_lgb, y_train_tree_lgb, y_test_tree_lgb = train_test_split(X[3], y[3], test_size=split, random_state=42)\n",
        "\n",
        "    # create lists\n",
        "    X_train = [X_train_tree, X_train_heloc, X_train_higgs, X_train_tree_lgb]\n",
        "    X_test = [X_test_tree, X_test_heloc, X_test_higgs, X_test_tree_lgb]\n",
        "    y_train = [y_train_tree, y_train_heloc, y_train_higgs, y_train_tree_lgb]\n",
        "    y_test = [y_test_tree, y_test_heloc, y_test_higgs, y_test_tree_lgb]\n",
        "\n",
        "\n",
        "    # extract some controlling numbers for better overivew\n",
        "    n_features = [x.shape[1] for x in X]\n",
        "    n_rows = [x.shape[0] for x in X]\n",
        "    print(\"number of features \", n_features)\n",
        "    print(\"number of rows \", n_rows)\n",
        "    labels = [np.unique(goal) for goal in y]\n",
        "    n_labels = [len(np.unique(goal)) for goal in y]\n",
        "    print(\"labels: \", labels)\n",
        "    print(\"number of labels \", n_labels)\n",
        "\n",
        "    return X_train, X_test, y_train, y_test, column_names"
      ],
      "metadata": {
        "id": "x10-_H4SQnmV"
      },
      "execution_count": 9,
      "outputs": [],
      "id": "x10-_H4SQnmV"
    },
    {
      "cell_type": "markdown",
      "source": [
        "**Compare classifiers**"
      ],
      "metadata": {
        "id": "bYg3kkE18NVR"
      },
      "id": "bYg3kkE18NVR"
    },
    {
      "cell_type": "code",
      "source": [
        "def compare_standard_classifiers(classifiers, classifier_names, x_train, x_test, y_train, y_test, data_names):\n",
        "  scores = []\n",
        "  for name, clf in zip(classifier_names, classifiers):\n",
        "          print(\"Classifer \" + name)\n",
        "          results = {\"model\": name, \"parameters\": clf.get_params()}\n",
        "          score = []\n",
        "          for xtrain, xtest, ytrain, ytest, data_name in zip(x_train, x_test, y_train, y_test, data_names):\n",
        "            print(\"Train \", data_name)\n",
        "            clf = make_pipeline(StandardScaler(), clf)\n",
        "            clf.fit(xtrain, ytrain)\n",
        "            print(\"Test\")\n",
        "            acc = clf.score(xtest, ytest)\n",
        "            score.append(acc)\n",
        "            results.update({data_name: acc})\n",
        "            print(\"Done\")\n",
        "          results.update({\"overall score\": np.mean(score)})\n",
        "          scores.append(results)\n",
        "  return scores"
      ],
      "metadata": {
        "id": "qTNetV0e8QN6"
      },
      "execution_count": 10,
      "outputs": [],
      "id": "qTNetV0e8QN6"
    },
    {
      "cell_type": "markdown",
      "source": [
        "**Make predictions**"
      ],
      "metadata": {
        "id": "4IwCVG-xYoGl"
      },
      "id": "4IwCVG-xYoGl"
    },
    {
      "cell_type": "code",
      "source": [
        "def make_prediction_heloc(train_set, drop_columns,  test_set, classifier, test_submission):\n",
        "  train = prepare_data_heloc_train(train_set, drop_columns)\n",
        "  test, na_indexes = prepare_data_heloc_test(test_set, drop_columns)\n",
        "  X_test = test.values\n",
        "  X,y = get_features_labels_heloc(train)\n",
        "  print(\"train\")\n",
        "  classifier = make_pipeline(StandardScaler(), classifier)\n",
        "  classifier.fit(X, y)\n",
        "  print(\"predict\")\n",
        "  y_pred = classifier.predict(X_test)\n",
        "  p = 5000/5459\n",
        "  na_preds = np.random.binomial(1, p, size=len(na_indexes))\n",
        "  y_pred[na_indexes] = na_preds\n",
        "  test_submission['pred'] = y_pred.astype(int)\n",
        "  test_submission = test_submission.drop('Prediction', axis=1)\n",
        "  test_submission = test_submission.rename(columns={'pred': 'Prediction'})\n",
        "  return test_submission"
      ],
      "metadata": {
        "id": "gepknaxTYmrZ"
      },
      "execution_count": 12,
      "outputs": [],
      "id": "gepknaxTYmrZ"
    },
    {
      "cell_type": "code",
      "source": [
        "def write_pred_file(output, type, path):\n",
        "  predictions = pd.DataFrame(output)\n",
        "  if type == 'tree':\n",
        "    predictions['ID'] = np.arange(1,3501)\n",
        "  elif type == 'heloc':\n",
        "    predictions['ID'] = np.arange(3501, 3501+1046)\n",
        "  elif type == 'higgs':\n",
        "    predictions['ID'] = np.arange(4547, 4547+75000)\n",
        "  predictions = predictions.rename({0: 'Prediction'}, axis=1)\n",
        "  predictions = predictions[['ID', 'Prediction']]\n",
        "  predictions.to_csv(path, index=False)\n",
        "  return predictions"
      ],
      "metadata": {
        "id": "hBxyrB4w6lMs"
      },
      "execution_count": 54,
      "outputs": [],
      "id": "hBxyrB4w6lMs"
    },
    {
      "cell_type": "markdown",
      "source": [
        "# 1. Load Data"
      ],
      "metadata": {
        "id": "eEaOusPL1kdi"
      },
      "id": "eEaOusPL1kdi"
    },
    {
      "cell_type": "code",
      "execution_count": 13,
      "metadata": {
        "id": "Tp_ZipWR1zac"
      },
      "outputs": [],
      "source": [
        "tree_train = pd.read_csv(\"/content/drive/MyDrive/aml/data/covtype_train.csv\")\n",
        "heloc_train = pd.read_csv(\"/content/drive/MyDrive/aml/data/heloc_train.csv\")\n",
        "higgs_train = pd.read_csv(\"/content/drive/MyDrive/aml/data/higgs_train.csv\")"
      ],
      "id": "Tp_ZipWR1zac"
    },
    {
      "cell_type": "code",
      "source": [
        "tree_test = pd.read_csv(\"/content/drive/MyDrive/aml/data/covtype_test.csv\")\n",
        "heloc_test = pd.read_csv(\"/content/drive/MyDrive/aml/data/heloc_test.csv\")\n",
        "higgs_test = pd.read_csv(\"/content/drive/MyDrive/aml/data/higgs_test.csv\")"
      ],
      "metadata": {
        "id": "1K1vo8aNvVeA"
      },
      "execution_count": 14,
      "outputs": [],
      "id": "1K1vo8aNvVeA"
    },
    {
      "cell_type": "code",
      "source": [
        "path = \"/content/drive/MyDrive/aml/\""
      ],
      "metadata": {
        "id": "FM5eduMQUDW3"
      },
      "id": "FM5eduMQUDW3",
      "execution_count": 48,
      "outputs": []
    },
    {
      "cell_type": "markdown",
      "source": [
        "# 2. Prepare data sets"
      ],
      "metadata": {
        "id": "O6tbnyf63N4Q"
      },
      "id": "O6tbnyf63N4Q"
    },
    {
      "cell_type": "code",
      "source": [
        "# final columns to drop\n",
        "# first 3 because of missing values\n",
        "# the rest because of multicorriliarity\n",
        "drop_columns_heloc2 = [\n",
        "                      ]"
      ],
      "metadata": {
        "id": "DYbe5U9HTUm8"
      },
      "execution_count": 15,
      "outputs": [],
      "id": "DYbe5U9HTUm8"
    },
    {
      "cell_type": "code",
      "source": [
        "# final list of columns to drop\n",
        "higgs_drop_columns2 = ['EventId']"
      ],
      "metadata": {
        "id": "p1tUOh3RTYuK"
      },
      "execution_count": 16,
      "outputs": [],
      "id": "p1tUOh3RTYuK"
    },
    {
      "cell_type": "code",
      "source": [
        "data_train = make_datasets_ready(tree_train, heloc_train, drop_columns_heloc2, higgs_train, higgs_drop_columns2)"
      ],
      "metadata": {
        "colab": {
          "base_uri": "https://localhost:8080/"
        },
        "id": "3HZ2s1K9RajV",
        "outputId": "8c840323-9c67-482d-c1ba-6b7bc939525a"
      },
      "execution_count": 17,
      "outputs": [
        {
          "output_type": "stream",
          "name": "stdout",
          "text": [
            "Preparing tree data...\n",
            "Inital dimensions  (58101, 55)\n",
            "New dimensions  (58101, 55)\n",
            "Preparing tree data 2nd version...\n",
            "Inital dimensions  (58101, 55)\n",
            "New dimensions  (58101, 13)\n",
            "Preparing heloc data...\n",
            "Inital dimensions: (9413, 24)\n",
            "Recode labels\n",
            "Drop columns\n",
            "New dimensions: (9413, 24)\n",
            "Split in features and labels\n",
            "Replace nas\n",
            "Impute nas\n",
            "Preparing higgs data...\n",
            "Inital dimensions: (175000, 33)\n",
            "New dimensions: (175000, 32)\n"
          ]
        }
      ],
      "id": "3HZ2s1K9RajV"
    },
    {
      "cell_type": "code",
      "source": [
        "data_test = make_datasets_ready_test(tree_test, heloc_test, drop_columns_heloc2, higgs_test, higgs_drop_columns2)"
      ],
      "metadata": {
        "colab": {
          "base_uri": "https://localhost:8080/"
        },
        "id": "dquxydY3vdjH",
        "outputId": "f3e04a15-2ee4-4c4c-bcc9-25889717603a"
      },
      "execution_count": 18,
      "outputs": [
        {
          "output_type": "stream",
          "name": "stdout",
          "text": [
            "Preparing tree data...\n",
            "Inital dimensions  (3500, 54)\n",
            "New dimensions  (3500, 54)\n",
            "Preparing tree data 2nd version...\n",
            "Inital dimensions  (3500, 54)\n",
            "New dimensions  (3500, 12)\n",
            "Preparing heloc data...\n",
            "Inital dimensions: (1046, 23)\n",
            "Recode labels\n",
            "Drop columns\n",
            "New dimensions: (1046, 23)\n",
            "Split in features and labels\n",
            "Replace nas\n",
            "Preparing higgs data...\n",
            "Inital dimensions: (75000, 32)\n",
            "New dimensions: (75000, 31)\n"
          ]
        }
      ],
      "id": "dquxydY3vdjH"
    },
    {
      "cell_type": "markdown",
      "source": [
        "# Predict"
      ],
      "metadata": {
        "id": "JWWEjgLqJ6pw"
      },
      "id": "JWWEjgLqJ6pw"
    },
    {
      "cell_type": "code",
      "source": [
        "X, y = get_training_ready_data(data_train, full_train=True)"
      ],
      "metadata": {
        "colab": {
          "base_uri": "https://localhost:8080/"
        },
        "id": "7Flaae82KNPB",
        "outputId": "64ad1f64-7ce8-40d9-e5c8-31fdc17f9f23"
      },
      "id": "7Flaae82KNPB",
      "execution_count": 21,
      "outputs": [
        {
          "output_type": "stream",
          "name": "stdout",
          "text": [
            "number of features  [55, 23, 31, 12]\n",
            "number of rows  [58101, 8876, 175000, 58101]\n",
            "labels:  [array([1, 2, 3, 4, 5, 6, 7]), array([0, 1]), array([0, 1]), array([1, 2, 3, 4, 5, 6, 7])]\n",
            "number of labels  [7, 2, 2, 7]\n"
          ]
        }
      ]
    },
    {
      "cell_type": "markdown",
      "source": [
        "## Higgs"
      ],
      "metadata": {
        "id": "9vwFBvxHKGWc"
      },
      "id": "9vwFBvxHKGWc"
    },
    {
      "cell_type": "code",
      "source": [
        "rand_indexes = np.random.randint(0, X[2].shape[0], 10000)"
      ],
      "metadata": {
        "id": "8JE6h5lgMNIw"
      },
      "id": "8JE6h5lgMNIw",
      "execution_count": 33,
      "outputs": []
    },
    {
      "cell_type": "code",
      "source": [
        "X_sample = X[2][rand_indexes, :]\n",
        "y_sample = y[2][rand_indexes]"
      ],
      "metadata": {
        "id": "jF3iorHOMkMV"
      },
      "id": "jF3iorHOMkMV",
      "execution_count": 34,
      "outputs": []
    },
    {
      "cell_type": "code",
      "source": [
        "# Define the parameter grid for Random Search CV\n",
        "param_grid = {\n",
        "    'n_estimators': [100, 200, 300],  # Number of trees in the forest\n",
        "    'max_depth': [10, 20, 30],  # Maximum depth of the tree\n",
        "    'min_samples_split': [2, 5, 10],  # Minimum number of samples required to split an internal node\n",
        "    'min_samples_leaf': [1, 2, 4],  # Minimum number of samples required to be at a leaf node\n",
        "    'bootstrap': [True, False]  # Method of selecting samples for training each tree\n",
        "}\n",
        "\n",
        "# Initialize a Random Forest classifier\n",
        "rf = RandomForestClassifier()\n",
        "\n",
        "# Initialize GridSearchCV\n",
        "rf_random = RandomizedSearchCV(estimator = rf, param_distributions = param_grid, n_iter = 10, cv = 2, verbose=2, random_state=42, n_jobs = -1)\n",
        "\n",
        "# Fit the grid search to the data\n",
        "rf_random.fit(X_sample, y_sample)\n",
        "\n",
        "# Best parameters and best score\n",
        "print(\"Best parameters found: \", rf_random.best_params_)\n",
        "print(\"Best cross-validation score: {:.4f}\".format(rf_random.best_score_))\n",
        "\n",
        "\n",
        "\n"
      ],
      "metadata": {
        "colab": {
          "base_uri": "https://localhost:8080/"
        },
        "id": "tRAluK8DP0yN",
        "outputId": "59f1e5e2-52ef-4ed1-9cdd-56b9c039a88b"
      },
      "id": "tRAluK8DP0yN",
      "execution_count": 43,
      "outputs": [
        {
          "output_type": "stream",
          "name": "stdout",
          "text": [
            "Fitting 2 folds for each of 10 candidates, totalling 20 fits\n",
            "Best parameters found:  {'n_estimators': 300, 'min_samples_split': 5, 'min_samples_leaf': 4, 'max_depth': 30, 'bootstrap': False}\n",
            "Best cross-validation score: 1.0000\n"
          ]
        }
      ]
    },
    {
      "cell_type": "code",
      "execution_count": 44,
      "id": "b949072d",
      "metadata": {
        "colab": {
          "base_uri": "https://localhost:8080/"
        },
        "id": "b949072d",
        "outputId": "5b41a181-2d03-40c0-d734-8fdd5941c18c"
      },
      "outputs": [
        {
          "output_type": "stream",
          "name": "stdout",
          "text": [
            "Fitting 3 folds for each of 9 candidates, totalling 27 fits\n",
            "Best parameters found:  {'bootstrap': False, 'max_depth': 20, 'min_samples_leaf': 4, 'min_samples_split': 5, 'n_estimators': 200}\n",
            "Best cross-validation score: 1.0000\n"
          ]
        }
      ],
      "source": [
        "# Define the parameter grid for GridSearchCV\n",
        "param_grid = {\n",
        "    'n_estimators': [200, 300, 400],  # Number of trees in the forest\n",
        "    'max_depth': [20, 30, 40],  # Maximum depth of the tree\n",
        "    'min_samples_split': [5],  # Minimum number of samples required to split an internal node\n",
        "    'min_samples_leaf': [4],  # Minimum number of samples required to be at a leaf node\n",
        "    'bootstrap': [False]  # Method of selecting samples for training each tree\n",
        "}\n",
        "\n",
        "# Initialize a Random Forest classifier\n",
        "rf = RandomForestClassifier()\n",
        "\n",
        "# Initialize GridSearchCV\n",
        "grid_search = GridSearchCV(estimator=rf, param_grid=param_grid, cv=3, n_jobs=-1, verbose=2)\n",
        "\n",
        "# Fit the grid search to the data\n",
        "grid_search.fit(X_sample, y_sample)\n",
        "\n",
        "# Best parameters and best score\n",
        "print(\"Best parameters found: \", grid_search.best_params_)\n",
        "print(\"Best cross-validation score: {:.4f}\".format(grid_search.best_score_))\n"
      ]
    },
    {
      "cell_type": "code",
      "source": [
        "# Predict on test data with the best model\n",
        "best_rf_model = grid_search.best_estimator_\n",
        "pred_higgs = best_rf_model.predict(data_test[2].values)"
      ],
      "metadata": {
        "id": "XVU-5VNwMufO"
      },
      "id": "XVU-5VNwMufO",
      "execution_count": 45,
      "outputs": []
    },
    {
      "cell_type": "code",
      "source": [
        "write_pred_file(pred_higgs, 'higgs', path+\"pred_higgs_rf.csv\")"
      ],
      "metadata": {
        "colab": {
          "base_uri": "https://localhost:8080/",
          "height": 424
        },
        "id": "g2tUN4NQTsTW",
        "outputId": "6a3cc805-3d5b-4755-d634-cecf5c2346d9"
      },
      "id": "g2tUN4NQTsTW",
      "execution_count": 55,
      "outputs": [
        {
          "output_type": "execute_result",
          "data": {
            "text/plain": [
              "          ID  Prediction\n",
              "0       4547           0\n",
              "1       4548           0\n",
              "2       4549           1\n",
              "3       4550           0\n",
              "4       4551           0\n",
              "...      ...         ...\n",
              "74995  79542           1\n",
              "74996  79543           0\n",
              "74997  79544           0\n",
              "74998  79545           1\n",
              "74999  79546           0\n",
              "\n",
              "[75000 rows x 2 columns]"
            ],
            "text/html": [
              "\n",
              "  <div id=\"df-bee1eb68-5479-41df-862b-9acc91d189f2\" class=\"colab-df-container\">\n",
              "    <div>\n",
              "<style scoped>\n",
              "    .dataframe tbody tr th:only-of-type {\n",
              "        vertical-align: middle;\n",
              "    }\n",
              "\n",
              "    .dataframe tbody tr th {\n",
              "        vertical-align: top;\n",
              "    }\n",
              "\n",
              "    .dataframe thead th {\n",
              "        text-align: right;\n",
              "    }\n",
              "</style>\n",
              "<table border=\"1\" class=\"dataframe\">\n",
              "  <thead>\n",
              "    <tr style=\"text-align: right;\">\n",
              "      <th></th>\n",
              "      <th>ID</th>\n",
              "      <th>Prediction</th>\n",
              "    </tr>\n",
              "  </thead>\n",
              "  <tbody>\n",
              "    <tr>\n",
              "      <th>0</th>\n",
              "      <td>4547</td>\n",
              "      <td>0</td>\n",
              "    </tr>\n",
              "    <tr>\n",
              "      <th>1</th>\n",
              "      <td>4548</td>\n",
              "      <td>0</td>\n",
              "    </tr>\n",
              "    <tr>\n",
              "      <th>2</th>\n",
              "      <td>4549</td>\n",
              "      <td>1</td>\n",
              "    </tr>\n",
              "    <tr>\n",
              "      <th>3</th>\n",
              "      <td>4550</td>\n",
              "      <td>0</td>\n",
              "    </tr>\n",
              "    <tr>\n",
              "      <th>4</th>\n",
              "      <td>4551</td>\n",
              "      <td>0</td>\n",
              "    </tr>\n",
              "    <tr>\n",
              "      <th>...</th>\n",
              "      <td>...</td>\n",
              "      <td>...</td>\n",
              "    </tr>\n",
              "    <tr>\n",
              "      <th>74995</th>\n",
              "      <td>79542</td>\n",
              "      <td>1</td>\n",
              "    </tr>\n",
              "    <tr>\n",
              "      <th>74996</th>\n",
              "      <td>79543</td>\n",
              "      <td>0</td>\n",
              "    </tr>\n",
              "    <tr>\n",
              "      <th>74997</th>\n",
              "      <td>79544</td>\n",
              "      <td>0</td>\n",
              "    </tr>\n",
              "    <tr>\n",
              "      <th>74998</th>\n",
              "      <td>79545</td>\n",
              "      <td>1</td>\n",
              "    </tr>\n",
              "    <tr>\n",
              "      <th>74999</th>\n",
              "      <td>79546</td>\n",
              "      <td>0</td>\n",
              "    </tr>\n",
              "  </tbody>\n",
              "</table>\n",
              "<p>75000 rows × 2 columns</p>\n",
              "</div>\n",
              "    <div class=\"colab-df-buttons\">\n",
              "\n",
              "  <div class=\"colab-df-container\">\n",
              "    <button class=\"colab-df-convert\" onclick=\"convertToInteractive('df-bee1eb68-5479-41df-862b-9acc91d189f2')\"\n",
              "            title=\"Convert this dataframe to an interactive table.\"\n",
              "            style=\"display:none;\">\n",
              "\n",
              "  <svg xmlns=\"http://www.w3.org/2000/svg\" height=\"24px\" viewBox=\"0 -960 960 960\">\n",
              "    <path d=\"M120-120v-720h720v720H120Zm60-500h600v-160H180v160Zm220 220h160v-160H400v160Zm0 220h160v-160H400v160ZM180-400h160v-160H180v160Zm440 0h160v-160H620v160ZM180-180h160v-160H180v160Zm440 0h160v-160H620v160Z\"/>\n",
              "  </svg>\n",
              "    </button>\n",
              "\n",
              "  <style>\n",
              "    .colab-df-container {\n",
              "      display:flex;\n",
              "      gap: 12px;\n",
              "    }\n",
              "\n",
              "    .colab-df-convert {\n",
              "      background-color: #E8F0FE;\n",
              "      border: none;\n",
              "      border-radius: 50%;\n",
              "      cursor: pointer;\n",
              "      display: none;\n",
              "      fill: #1967D2;\n",
              "      height: 32px;\n",
              "      padding: 0 0 0 0;\n",
              "      width: 32px;\n",
              "    }\n",
              "\n",
              "    .colab-df-convert:hover {\n",
              "      background-color: #E2EBFA;\n",
              "      box-shadow: 0px 1px 2px rgba(60, 64, 67, 0.3), 0px 1px 3px 1px rgba(60, 64, 67, 0.15);\n",
              "      fill: #174EA6;\n",
              "    }\n",
              "\n",
              "    .colab-df-buttons div {\n",
              "      margin-bottom: 4px;\n",
              "    }\n",
              "\n",
              "    [theme=dark] .colab-df-convert {\n",
              "      background-color: #3B4455;\n",
              "      fill: #D2E3FC;\n",
              "    }\n",
              "\n",
              "    [theme=dark] .colab-df-convert:hover {\n",
              "      background-color: #434B5C;\n",
              "      box-shadow: 0px 1px 3px 1px rgba(0, 0, 0, 0.15);\n",
              "      filter: drop-shadow(0px 1px 2px rgba(0, 0, 0, 0.3));\n",
              "      fill: #FFFFFF;\n",
              "    }\n",
              "  </style>\n",
              "\n",
              "    <script>\n",
              "      const buttonEl =\n",
              "        document.querySelector('#df-bee1eb68-5479-41df-862b-9acc91d189f2 button.colab-df-convert');\n",
              "      buttonEl.style.display =\n",
              "        google.colab.kernel.accessAllowed ? 'block' : 'none';\n",
              "\n",
              "      async function convertToInteractive(key) {\n",
              "        const element = document.querySelector('#df-bee1eb68-5479-41df-862b-9acc91d189f2');\n",
              "        const dataTable =\n",
              "          await google.colab.kernel.invokeFunction('convertToInteractive',\n",
              "                                                    [key], {});\n",
              "        if (!dataTable) return;\n",
              "\n",
              "        const docLinkHtml = 'Like what you see? Visit the ' +\n",
              "          '<a target=\"_blank\" href=https://colab.research.google.com/notebooks/data_table.ipynb>data table notebook</a>'\n",
              "          + ' to learn more about interactive tables.';\n",
              "        element.innerHTML = '';\n",
              "        dataTable['output_type'] = 'display_data';\n",
              "        await google.colab.output.renderOutput(dataTable, element);\n",
              "        const docLink = document.createElement('div');\n",
              "        docLink.innerHTML = docLinkHtml;\n",
              "        element.appendChild(docLink);\n",
              "      }\n",
              "    </script>\n",
              "  </div>\n",
              "\n",
              "\n",
              "<div id=\"df-1ef1dd8c-c608-4bc0-bc75-dbeae0f09611\">\n",
              "  <button class=\"colab-df-quickchart\" onclick=\"quickchart('df-1ef1dd8c-c608-4bc0-bc75-dbeae0f09611')\"\n",
              "            title=\"Suggest charts\"\n",
              "            style=\"display:none;\">\n",
              "\n",
              "<svg xmlns=\"http://www.w3.org/2000/svg\" height=\"24px\"viewBox=\"0 0 24 24\"\n",
              "     width=\"24px\">\n",
              "    <g>\n",
              "        <path d=\"M19 3H5c-1.1 0-2 .9-2 2v14c0 1.1.9 2 2 2h14c1.1 0 2-.9 2-2V5c0-1.1-.9-2-2-2zM9 17H7v-7h2v7zm4 0h-2V7h2v10zm4 0h-2v-4h2v4z\"/>\n",
              "    </g>\n",
              "</svg>\n",
              "  </button>\n",
              "\n",
              "<style>\n",
              "  .colab-df-quickchart {\n",
              "      --bg-color: #E8F0FE;\n",
              "      --fill-color: #1967D2;\n",
              "      --hover-bg-color: #E2EBFA;\n",
              "      --hover-fill-color: #174EA6;\n",
              "      --disabled-fill-color: #AAA;\n",
              "      --disabled-bg-color: #DDD;\n",
              "  }\n",
              "\n",
              "  [theme=dark] .colab-df-quickchart {\n",
              "      --bg-color: #3B4455;\n",
              "      --fill-color: #D2E3FC;\n",
              "      --hover-bg-color: #434B5C;\n",
              "      --hover-fill-color: #FFFFFF;\n",
              "      --disabled-bg-color: #3B4455;\n",
              "      --disabled-fill-color: #666;\n",
              "  }\n",
              "\n",
              "  .colab-df-quickchart {\n",
              "    background-color: var(--bg-color);\n",
              "    border: none;\n",
              "    border-radius: 50%;\n",
              "    cursor: pointer;\n",
              "    display: none;\n",
              "    fill: var(--fill-color);\n",
              "    height: 32px;\n",
              "    padding: 0;\n",
              "    width: 32px;\n",
              "  }\n",
              "\n",
              "  .colab-df-quickchart:hover {\n",
              "    background-color: var(--hover-bg-color);\n",
              "    box-shadow: 0 1px 2px rgba(60, 64, 67, 0.3), 0 1px 3px 1px rgba(60, 64, 67, 0.15);\n",
              "    fill: var(--button-hover-fill-color);\n",
              "  }\n",
              "\n",
              "  .colab-df-quickchart-complete:disabled,\n",
              "  .colab-df-quickchart-complete:disabled:hover {\n",
              "    background-color: var(--disabled-bg-color);\n",
              "    fill: var(--disabled-fill-color);\n",
              "    box-shadow: none;\n",
              "  }\n",
              "\n",
              "  .colab-df-spinner {\n",
              "    border: 2px solid var(--fill-color);\n",
              "    border-color: transparent;\n",
              "    border-bottom-color: var(--fill-color);\n",
              "    animation:\n",
              "      spin 1s steps(1) infinite;\n",
              "  }\n",
              "\n",
              "  @keyframes spin {\n",
              "    0% {\n",
              "      border-color: transparent;\n",
              "      border-bottom-color: var(--fill-color);\n",
              "      border-left-color: var(--fill-color);\n",
              "    }\n",
              "    20% {\n",
              "      border-color: transparent;\n",
              "      border-left-color: var(--fill-color);\n",
              "      border-top-color: var(--fill-color);\n",
              "    }\n",
              "    30% {\n",
              "      border-color: transparent;\n",
              "      border-left-color: var(--fill-color);\n",
              "      border-top-color: var(--fill-color);\n",
              "      border-right-color: var(--fill-color);\n",
              "    }\n",
              "    40% {\n",
              "      border-color: transparent;\n",
              "      border-right-color: var(--fill-color);\n",
              "      border-top-color: var(--fill-color);\n",
              "    }\n",
              "    60% {\n",
              "      border-color: transparent;\n",
              "      border-right-color: var(--fill-color);\n",
              "    }\n",
              "    80% {\n",
              "      border-color: transparent;\n",
              "      border-right-color: var(--fill-color);\n",
              "      border-bottom-color: var(--fill-color);\n",
              "    }\n",
              "    90% {\n",
              "      border-color: transparent;\n",
              "      border-bottom-color: var(--fill-color);\n",
              "    }\n",
              "  }\n",
              "</style>\n",
              "\n",
              "  <script>\n",
              "    async function quickchart(key) {\n",
              "      const quickchartButtonEl =\n",
              "        document.querySelector('#' + key + ' button');\n",
              "      quickchartButtonEl.disabled = true;  // To prevent multiple clicks.\n",
              "      quickchartButtonEl.classList.add('colab-df-spinner');\n",
              "      try {\n",
              "        const charts = await google.colab.kernel.invokeFunction(\n",
              "            'suggestCharts', [key], {});\n",
              "      } catch (error) {\n",
              "        console.error('Error during call to suggestCharts:', error);\n",
              "      }\n",
              "      quickchartButtonEl.classList.remove('colab-df-spinner');\n",
              "      quickchartButtonEl.classList.add('colab-df-quickchart-complete');\n",
              "    }\n",
              "    (() => {\n",
              "      let quickchartButtonEl =\n",
              "        document.querySelector('#df-1ef1dd8c-c608-4bc0-bc75-dbeae0f09611 button');\n",
              "      quickchartButtonEl.style.display =\n",
              "        google.colab.kernel.accessAllowed ? 'block' : 'none';\n",
              "    })();\n",
              "  </script>\n",
              "</div>\n",
              "    </div>\n",
              "  </div>\n"
            ]
          },
          "metadata": {},
          "execution_count": 55
        }
      ]
    },
    {
      "cell_type": "markdown",
      "source": [
        "## Heloc"
      ],
      "metadata": {
        "id": "W9dGiL2IVVYy"
      },
      "id": "W9dGiL2IVVYy"
    },
    {
      "cell_type": "code",
      "source": [
        "X_heloc = heloc_train.drop('RiskPerformance', axis=1)\n",
        "y_heloc = heloc_train[['RiskPerformance']]\n",
        "\n",
        "X_heloc = X_heloc.values\n",
        "y_heloc = y_heloc.values"
      ],
      "metadata": {
        "id": "xG9iS6HMV9p6"
      },
      "id": "xG9iS6HMV9p6",
      "execution_count": 95,
      "outputs": []
    },
    {
      "cell_type": "code",
      "source": [
        "rand_indexes = np.random.randint(0, X_heloc.shape[0], 10000)"
      ],
      "metadata": {
        "id": "X9FZyzLkXbv-"
      },
      "execution_count": 96,
      "outputs": [],
      "id": "X9FZyzLkXbv-"
    },
    {
      "cell_type": "code",
      "source": [
        "X_sample = X_heloc[rand_indexes, :]\n",
        "y_sample = y_heloc[rand_indexes]"
      ],
      "metadata": {
        "id": "wZ5dteTAXbwA"
      },
      "execution_count": 97,
      "outputs": [],
      "id": "wZ5dteTAXbwA"
    },
    {
      "cell_type": "code",
      "source": [
        "# Define the parameter grid for Random Search CV\n",
        "param_grid = {\n",
        "    'n_estimators': [100, 200, 300],  # Number of trees in the forest\n",
        "    'max_depth': [10, 20, 30],  # Maximum depth of the tree\n",
        "    'min_samples_split': [2, 5, 10],  # Minimum number of samples required to split an internal node\n",
        "    'min_samples_leaf': [1, 2, 4],  # Minimum number of samples required to be at a leaf node\n",
        "    'bootstrap': [True, False]  # Method of selecting samples for training each tree\n",
        "}\n",
        "\n",
        "# Initialize a Random Forest classifier\n",
        "rf = RandomForestClassifier()\n",
        "\n",
        "# Initialize GridSearchCV\n",
        "rf_random = RandomizedSearchCV(estimator = rf, param_distributions = param_grid, n_iter = 10, cv = 2, verbose=2, random_state=42, n_jobs = -1)\n",
        "\n",
        "# Fit the grid search to the data\n",
        "rf_random.fit(X_sample, y_sample)\n",
        "\n",
        "# Best parameters and best score\n",
        "print(\"Best parameters found: \", rf_random.best_params_)\n",
        "print(\"Best cross-validation score: {:.4f}\".format(rf_random.best_score_))\n",
        "\n",
        "\n",
        "\n"
      ],
      "metadata": {
        "colab": {
          "base_uri": "https://localhost:8080/"
        },
        "outputId": "37c806f6-12ce-4575-d0b0-764d586d6a98",
        "id": "IWT_99KsXbwA"
      },
      "execution_count": 98,
      "outputs": [
        {
          "output_type": "stream",
          "name": "stdout",
          "text": [
            "Fitting 2 folds for each of 10 candidates, totalling 20 fits\n"
          ]
        },
        {
          "output_type": "stream",
          "name": "stderr",
          "text": [
            "/usr/local/lib/python3.10/dist-packages/sklearn/model_selection/_search.py:909: DataConversionWarning: A column-vector y was passed when a 1d array was expected. Please change the shape of y to (n_samples,), for example using ravel().\n",
            "  self.best_estimator_.fit(X, y, **fit_params)\n"
          ]
        },
        {
          "output_type": "stream",
          "name": "stdout",
          "text": [
            "Best parameters found:  {'n_estimators': 100, 'min_samples_split': 2, 'min_samples_leaf': 2, 'max_depth': 30, 'bootstrap': False}\n",
            "Best cross-validation score: 0.8191\n"
          ]
        }
      ],
      "id": "IWT_99KsXbwA"
    },
    {
      "cell_type": "code",
      "execution_count": 99,
      "metadata": {
        "colab": {
          "base_uri": "https://localhost:8080/"
        },
        "outputId": "63de2612-5b4a-4878-8f50-8c11087e7f43",
        "id": "p4487I3RXbwB"
      },
      "outputs": [
        {
          "output_type": "stream",
          "name": "stdout",
          "text": [
            "Fitting 3 folds for each of 81 candidates, totalling 243 fits\n"
          ]
        },
        {
          "output_type": "stream",
          "name": "stderr",
          "text": [
            "/usr/local/lib/python3.10/dist-packages/sklearn/model_selection/_validation.py:378: FitFailedWarning: \n",
            "81 fits failed out of a total of 243.\n",
            "The score on these train-test partitions for these parameters will be set to nan.\n",
            "If these failures are not expected, you can try to debug them by setting error_score='raise'.\n",
            "\n",
            "Below are more details about the failures:\n",
            "--------------------------------------------------------------------------------\n",
            "81 fits failed with the following error:\n",
            "Traceback (most recent call last):\n",
            "  File \"/usr/local/lib/python3.10/dist-packages/sklearn/model_selection/_validation.py\", line 686, in _fit_and_score\n",
            "    estimator.fit(X_train, y_train, **fit_params)\n",
            "  File \"/usr/local/lib/python3.10/dist-packages/sklearn/ensemble/_forest.py\", line 340, in fit\n",
            "    self._validate_params()\n",
            "  File \"/usr/local/lib/python3.10/dist-packages/sklearn/base.py\", line 600, in _validate_params\n",
            "    validate_parameter_constraints(\n",
            "  File \"/usr/local/lib/python3.10/dist-packages/sklearn/utils/_param_validation.py\", line 97, in validate_parameter_constraints\n",
            "    raise InvalidParameterError(\n",
            "sklearn.utils._param_validation.InvalidParameterError: The 'min_samples_split' parameter of RandomForestClassifier must be an int in the range [2, inf) or a float in the range (0.0, 1.0]. Got 1 instead.\n",
            "\n",
            "  warnings.warn(some_fits_failed_message, FitFailedWarning)\n",
            "/usr/local/lib/python3.10/dist-packages/sklearn/model_selection/_search.py:952: UserWarning: One or more of the test scores are non-finite: [       nan        nan        nan 0.84079968 0.84309973 0.84319929\n",
            " 0.84189946 0.83999945 0.8435999         nan        nan        nan\n",
            " 0.84029999 0.84059954 0.84049953 0.84139968 0.84039955 0.84049959\n",
            "        nan        nan        nan 0.83929959 0.8378996  0.84159946\n",
            " 0.83729966 0.84109971 0.83869968        nan        nan        nan\n",
            " 0.84009922 0.84169944 0.84019971 0.84199971 0.84309895 0.84399955\n",
            "        nan        nan        nan 0.84259977 0.84209951 0.84259959\n",
            " 0.83939942 0.84109968 0.84199941        nan        nan        nan\n",
            " 0.84109965 0.84030002 0.84159964 0.84159949 0.84239969 0.84189943\n",
            "        nan        nan        nan 0.84229965 0.84119972 0.84289959\n",
            " 0.84249952 0.84319944 0.8450996         nan        nan        nan\n",
            " 0.84139983 0.84089987 0.8438996  0.84469962 0.84179987 0.84179933\n",
            "        nan        nan        nan 0.83759981 0.83979976 0.84119942\n",
            " 0.8389995  0.84199944 0.8417999 ]\n",
            "  warnings.warn(\n",
            "/usr/local/lib/python3.10/dist-packages/sklearn/model_selection/_search.py:909: DataConversionWarning: A column-vector y was passed when a 1d array was expected. Please change the shape of y to (n_samples,), for example using ravel().\n",
            "  self.best_estimator_.fit(X, y, **fit_params)\n"
          ]
        },
        {
          "output_type": "stream",
          "name": "stdout",
          "text": [
            "Best parameters found:  {'bootstrap': False, 'max_depth': 40, 'min_samples_leaf': 1, 'min_samples_split': 3, 'n_estimators': 200}\n",
            "Best cross-validation score: 0.8451\n"
          ]
        }
      ],
      "source": [
        "# Define the parameter grid for GridSearchCV\n",
        "param_grid = {\n",
        "    'n_estimators': [50, 100, 200],  # Number of trees in the forest\n",
        "    'max_depth': [20, 30, 40],  # Maximum depth of the tree\n",
        "    'min_samples_split': [1,2,3],  # Minimum number of samples required to split an internal node\n",
        "    'min_samples_leaf': [1,2,3],  # Minimum number of samples required to be at a leaf node\n",
        "    'bootstrap': [False]  # Method of selecting samples for training each tree\n",
        "}\n",
        "\n",
        "# Initialize a Random Forest classifier\n",
        "rf = RandomForestClassifier()\n",
        "\n",
        "# Initialize GridSearchCV\n",
        "grid_search = GridSearchCV(estimator=rf, param_grid=param_grid, cv=3, n_jobs=-1, verbose=2)\n",
        "\n",
        "# Fit the grid search to the data\n",
        "grid_search.fit(X_sample, y_sample)\n",
        "\n",
        "# Best parameters and best score\n",
        "print(\"Best parameters found: \", grid_search.best_params_)\n",
        "print(\"Best cross-validation score: {:.4f}\".format(grid_search.best_score_))\n"
      ],
      "id": "p4487I3RXbwB"
    },
    {
      "cell_type": "code",
      "source": [
        "param_grid = {\n",
        "    'n_estimators': 200,  # Number of trees in the forest\n",
        "    'max_depth': 40,  # Maximum depth of the tree\n",
        "    'min_samples_split': 3,  # Minimum number of samples required to split an internal node\n",
        "    'min_samples_leaf': 1,  # Minimum number of samples required to be at a leaf node\n",
        "    'bootstrap': False  # Method of selecting samples for training each tree\n",
        "}\n"
      ],
      "metadata": {
        "id": "mAFcTrTQYv-r"
      },
      "id": "mAFcTrTQYv-r",
      "execution_count": 100,
      "outputs": []
    },
    {
      "cell_type": "code",
      "source": [
        "clf = RandomForestClassifier(**param_grid)"
      ],
      "metadata": {
        "id": "kUQA3F-nYqcd"
      },
      "id": "kUQA3F-nYqcd",
      "execution_count": 101,
      "outputs": []
    },
    {
      "cell_type": "code",
      "source": [
        "smote = SMOTE()\n",
        "X_train_smote, y_train_smote = smote.fit_resample(X_heloc, y_heloc)"
      ],
      "metadata": {
        "id": "EkHnLfK3avM9"
      },
      "id": "EkHnLfK3avM9",
      "execution_count": 102,
      "outputs": []
    },
    {
      "cell_type": "code",
      "source": [
        "clf.fit(X_train_smote, y_train_smote)"
      ],
      "metadata": {
        "colab": {
          "base_uri": "https://localhost:8080/",
          "height": 92
        },
        "id": "pUm8qQ2hY2ee",
        "outputId": "ce8c053d-b1bf-47b8-a87e-b1b54c91b070"
      },
      "id": "pUm8qQ2hY2ee",
      "execution_count": 103,
      "outputs": [
        {
          "output_type": "execute_result",
          "data": {
            "text/plain": [
              "RandomForestClassifier(bootstrap=False, max_depth=40, min_samples_split=3,\n",
              "                       n_estimators=200)"
            ],
            "text/html": [
              "<style>#sk-container-id-2 {color: black;background-color: white;}#sk-container-id-2 pre{padding: 0;}#sk-container-id-2 div.sk-toggleable {background-color: white;}#sk-container-id-2 label.sk-toggleable__label {cursor: pointer;display: block;width: 100%;margin-bottom: 0;padding: 0.3em;box-sizing: border-box;text-align: center;}#sk-container-id-2 label.sk-toggleable__label-arrow:before {content: \"▸\";float: left;margin-right: 0.25em;color: #696969;}#sk-container-id-2 label.sk-toggleable__label-arrow:hover:before {color: black;}#sk-container-id-2 div.sk-estimator:hover label.sk-toggleable__label-arrow:before {color: black;}#sk-container-id-2 div.sk-toggleable__content {max-height: 0;max-width: 0;overflow: hidden;text-align: left;background-color: #f0f8ff;}#sk-container-id-2 div.sk-toggleable__content pre {margin: 0.2em;color: black;border-radius: 0.25em;background-color: #f0f8ff;}#sk-container-id-2 input.sk-toggleable__control:checked~div.sk-toggleable__content {max-height: 200px;max-width: 100%;overflow: auto;}#sk-container-id-2 input.sk-toggleable__control:checked~label.sk-toggleable__label-arrow:before {content: \"▾\";}#sk-container-id-2 div.sk-estimator input.sk-toggleable__control:checked~label.sk-toggleable__label {background-color: #d4ebff;}#sk-container-id-2 div.sk-label input.sk-toggleable__control:checked~label.sk-toggleable__label {background-color: #d4ebff;}#sk-container-id-2 input.sk-hidden--visually {border: 0;clip: rect(1px 1px 1px 1px);clip: rect(1px, 1px, 1px, 1px);height: 1px;margin: -1px;overflow: hidden;padding: 0;position: absolute;width: 1px;}#sk-container-id-2 div.sk-estimator {font-family: monospace;background-color: #f0f8ff;border: 1px dotted black;border-radius: 0.25em;box-sizing: border-box;margin-bottom: 0.5em;}#sk-container-id-2 div.sk-estimator:hover {background-color: #d4ebff;}#sk-container-id-2 div.sk-parallel-item::after {content: \"\";width: 100%;border-bottom: 1px solid gray;flex-grow: 1;}#sk-container-id-2 div.sk-label:hover label.sk-toggleable__label {background-color: #d4ebff;}#sk-container-id-2 div.sk-serial::before {content: \"\";position: absolute;border-left: 1px solid gray;box-sizing: border-box;top: 0;bottom: 0;left: 50%;z-index: 0;}#sk-container-id-2 div.sk-serial {display: flex;flex-direction: column;align-items: center;background-color: white;padding-right: 0.2em;padding-left: 0.2em;position: relative;}#sk-container-id-2 div.sk-item {position: relative;z-index: 1;}#sk-container-id-2 div.sk-parallel {display: flex;align-items: stretch;justify-content: center;background-color: white;position: relative;}#sk-container-id-2 div.sk-item::before, #sk-container-id-2 div.sk-parallel-item::before {content: \"\";position: absolute;border-left: 1px solid gray;box-sizing: border-box;top: 0;bottom: 0;left: 50%;z-index: -1;}#sk-container-id-2 div.sk-parallel-item {display: flex;flex-direction: column;z-index: 1;position: relative;background-color: white;}#sk-container-id-2 div.sk-parallel-item:first-child::after {align-self: flex-end;width: 50%;}#sk-container-id-2 div.sk-parallel-item:last-child::after {align-self: flex-start;width: 50%;}#sk-container-id-2 div.sk-parallel-item:only-child::after {width: 0;}#sk-container-id-2 div.sk-dashed-wrapped {border: 1px dashed gray;margin: 0 0.4em 0.5em 0.4em;box-sizing: border-box;padding-bottom: 0.4em;background-color: white;}#sk-container-id-2 div.sk-label label {font-family: monospace;font-weight: bold;display: inline-block;line-height: 1.2em;}#sk-container-id-2 div.sk-label-container {text-align: center;}#sk-container-id-2 div.sk-container {/* jupyter's `normalize.less` sets `[hidden] { display: none; }` but bootstrap.min.css set `[hidden] { display: none !important; }` so we also need the `!important` here to be able to override the default hidden behavior on the sphinx rendered scikit-learn.org. See: https://github.com/scikit-learn/scikit-learn/issues/21755 */display: inline-block !important;position: relative;}#sk-container-id-2 div.sk-text-repr-fallback {display: none;}</style><div id=\"sk-container-id-2\" class=\"sk-top-container\"><div class=\"sk-text-repr-fallback\"><pre>RandomForestClassifier(bootstrap=False, max_depth=40, min_samples_split=3,\n",
              "                       n_estimators=200)</pre><b>In a Jupyter environment, please rerun this cell to show the HTML representation or trust the notebook. <br />On GitHub, the HTML representation is unable to render, please try loading this page with nbviewer.org.</b></div><div class=\"sk-container\" hidden><div class=\"sk-item\"><div class=\"sk-estimator sk-toggleable\"><input class=\"sk-toggleable__control sk-hidden--visually\" id=\"sk-estimator-id-2\" type=\"checkbox\" checked><label for=\"sk-estimator-id-2\" class=\"sk-toggleable__label sk-toggleable__label-arrow\">RandomForestClassifier</label><div class=\"sk-toggleable__content\"><pre>RandomForestClassifier(bootstrap=False, max_depth=40, min_samples_split=3,\n",
              "                       n_estimators=200)</pre></div></div></div></div></div>"
            ]
          },
          "metadata": {},
          "execution_count": 103
        }
      ]
    },
    {
      "cell_type": "code",
      "source": [
        "pred_heloc = clf.predict(heloc_test.values)"
      ],
      "metadata": {
        "id": "zbcSztzkXbwB"
      },
      "execution_count": 104,
      "outputs": [],
      "id": "zbcSztzkXbwB"
    },
    {
      "cell_type": "code",
      "source": [
        "write_pred_file(pred_heloc, 'heloc', path+\"pred_heloc_rf_2.csv\")"
      ],
      "metadata": {
        "colab": {
          "base_uri": "https://localhost:8080/",
          "height": 424
        },
        "outputId": "3cc5db8b-e75d-4b63-9af1-0866fbd6b2bb",
        "id": "m4m-3tHvXbwB"
      },
      "execution_count": 105,
      "outputs": [
        {
          "output_type": "execute_result",
          "data": {
            "text/plain": [
              "        ID  Prediction\n",
              "0     3501           1\n",
              "1     3502           0\n",
              "2     3503           0\n",
              "3     3504           0\n",
              "4     3505           0\n",
              "...    ...         ...\n",
              "1041  4542           1\n",
              "1042  4543           0\n",
              "1043  4544           1\n",
              "1044  4545           1\n",
              "1045  4546           1\n",
              "\n",
              "[1046 rows x 2 columns]"
            ],
            "text/html": [
              "\n",
              "  <div id=\"df-9054a9a7-ae18-4152-bc77-88b4c418145b\" class=\"colab-df-container\">\n",
              "    <div>\n",
              "<style scoped>\n",
              "    .dataframe tbody tr th:only-of-type {\n",
              "        vertical-align: middle;\n",
              "    }\n",
              "\n",
              "    .dataframe tbody tr th {\n",
              "        vertical-align: top;\n",
              "    }\n",
              "\n",
              "    .dataframe thead th {\n",
              "        text-align: right;\n",
              "    }\n",
              "</style>\n",
              "<table border=\"1\" class=\"dataframe\">\n",
              "  <thead>\n",
              "    <tr style=\"text-align: right;\">\n",
              "      <th></th>\n",
              "      <th>ID</th>\n",
              "      <th>Prediction</th>\n",
              "    </tr>\n",
              "  </thead>\n",
              "  <tbody>\n",
              "    <tr>\n",
              "      <th>0</th>\n",
              "      <td>3501</td>\n",
              "      <td>1</td>\n",
              "    </tr>\n",
              "    <tr>\n",
              "      <th>1</th>\n",
              "      <td>3502</td>\n",
              "      <td>0</td>\n",
              "    </tr>\n",
              "    <tr>\n",
              "      <th>2</th>\n",
              "      <td>3503</td>\n",
              "      <td>0</td>\n",
              "    </tr>\n",
              "    <tr>\n",
              "      <th>3</th>\n",
              "      <td>3504</td>\n",
              "      <td>0</td>\n",
              "    </tr>\n",
              "    <tr>\n",
              "      <th>4</th>\n",
              "      <td>3505</td>\n",
              "      <td>0</td>\n",
              "    </tr>\n",
              "    <tr>\n",
              "      <th>...</th>\n",
              "      <td>...</td>\n",
              "      <td>...</td>\n",
              "    </tr>\n",
              "    <tr>\n",
              "      <th>1041</th>\n",
              "      <td>4542</td>\n",
              "      <td>1</td>\n",
              "    </tr>\n",
              "    <tr>\n",
              "      <th>1042</th>\n",
              "      <td>4543</td>\n",
              "      <td>0</td>\n",
              "    </tr>\n",
              "    <tr>\n",
              "      <th>1043</th>\n",
              "      <td>4544</td>\n",
              "      <td>1</td>\n",
              "    </tr>\n",
              "    <tr>\n",
              "      <th>1044</th>\n",
              "      <td>4545</td>\n",
              "      <td>1</td>\n",
              "    </tr>\n",
              "    <tr>\n",
              "      <th>1045</th>\n",
              "      <td>4546</td>\n",
              "      <td>1</td>\n",
              "    </tr>\n",
              "  </tbody>\n",
              "</table>\n",
              "<p>1046 rows × 2 columns</p>\n",
              "</div>\n",
              "    <div class=\"colab-df-buttons\">\n",
              "\n",
              "  <div class=\"colab-df-container\">\n",
              "    <button class=\"colab-df-convert\" onclick=\"convertToInteractive('df-9054a9a7-ae18-4152-bc77-88b4c418145b')\"\n",
              "            title=\"Convert this dataframe to an interactive table.\"\n",
              "            style=\"display:none;\">\n",
              "\n",
              "  <svg xmlns=\"http://www.w3.org/2000/svg\" height=\"24px\" viewBox=\"0 -960 960 960\">\n",
              "    <path d=\"M120-120v-720h720v720H120Zm60-500h600v-160H180v160Zm220 220h160v-160H400v160Zm0 220h160v-160H400v160ZM180-400h160v-160H180v160Zm440 0h160v-160H620v160ZM180-180h160v-160H180v160Zm440 0h160v-160H620v160Z\"/>\n",
              "  </svg>\n",
              "    </button>\n",
              "\n",
              "  <style>\n",
              "    .colab-df-container {\n",
              "      display:flex;\n",
              "      gap: 12px;\n",
              "    }\n",
              "\n",
              "    .colab-df-convert {\n",
              "      background-color: #E8F0FE;\n",
              "      border: none;\n",
              "      border-radius: 50%;\n",
              "      cursor: pointer;\n",
              "      display: none;\n",
              "      fill: #1967D2;\n",
              "      height: 32px;\n",
              "      padding: 0 0 0 0;\n",
              "      width: 32px;\n",
              "    }\n",
              "\n",
              "    .colab-df-convert:hover {\n",
              "      background-color: #E2EBFA;\n",
              "      box-shadow: 0px 1px 2px rgba(60, 64, 67, 0.3), 0px 1px 3px 1px rgba(60, 64, 67, 0.15);\n",
              "      fill: #174EA6;\n",
              "    }\n",
              "\n",
              "    .colab-df-buttons div {\n",
              "      margin-bottom: 4px;\n",
              "    }\n",
              "\n",
              "    [theme=dark] .colab-df-convert {\n",
              "      background-color: #3B4455;\n",
              "      fill: #D2E3FC;\n",
              "    }\n",
              "\n",
              "    [theme=dark] .colab-df-convert:hover {\n",
              "      background-color: #434B5C;\n",
              "      box-shadow: 0px 1px 3px 1px rgba(0, 0, 0, 0.15);\n",
              "      filter: drop-shadow(0px 1px 2px rgba(0, 0, 0, 0.3));\n",
              "      fill: #FFFFFF;\n",
              "    }\n",
              "  </style>\n",
              "\n",
              "    <script>\n",
              "      const buttonEl =\n",
              "        document.querySelector('#df-9054a9a7-ae18-4152-bc77-88b4c418145b button.colab-df-convert');\n",
              "      buttonEl.style.display =\n",
              "        google.colab.kernel.accessAllowed ? 'block' : 'none';\n",
              "\n",
              "      async function convertToInteractive(key) {\n",
              "        const element = document.querySelector('#df-9054a9a7-ae18-4152-bc77-88b4c418145b');\n",
              "        const dataTable =\n",
              "          await google.colab.kernel.invokeFunction('convertToInteractive',\n",
              "                                                    [key], {});\n",
              "        if (!dataTable) return;\n",
              "\n",
              "        const docLinkHtml = 'Like what you see? Visit the ' +\n",
              "          '<a target=\"_blank\" href=https://colab.research.google.com/notebooks/data_table.ipynb>data table notebook</a>'\n",
              "          + ' to learn more about interactive tables.';\n",
              "        element.innerHTML = '';\n",
              "        dataTable['output_type'] = 'display_data';\n",
              "        await google.colab.output.renderOutput(dataTable, element);\n",
              "        const docLink = document.createElement('div');\n",
              "        docLink.innerHTML = docLinkHtml;\n",
              "        element.appendChild(docLink);\n",
              "      }\n",
              "    </script>\n",
              "  </div>\n",
              "\n",
              "\n",
              "<div id=\"df-9eb78896-3cfc-4f7d-a4b3-46b800d4235b\">\n",
              "  <button class=\"colab-df-quickchart\" onclick=\"quickchart('df-9eb78896-3cfc-4f7d-a4b3-46b800d4235b')\"\n",
              "            title=\"Suggest charts\"\n",
              "            style=\"display:none;\">\n",
              "\n",
              "<svg xmlns=\"http://www.w3.org/2000/svg\" height=\"24px\"viewBox=\"0 0 24 24\"\n",
              "     width=\"24px\">\n",
              "    <g>\n",
              "        <path d=\"M19 3H5c-1.1 0-2 .9-2 2v14c0 1.1.9 2 2 2h14c1.1 0 2-.9 2-2V5c0-1.1-.9-2-2-2zM9 17H7v-7h2v7zm4 0h-2V7h2v10zm4 0h-2v-4h2v4z\"/>\n",
              "    </g>\n",
              "</svg>\n",
              "  </button>\n",
              "\n",
              "<style>\n",
              "  .colab-df-quickchart {\n",
              "      --bg-color: #E8F0FE;\n",
              "      --fill-color: #1967D2;\n",
              "      --hover-bg-color: #E2EBFA;\n",
              "      --hover-fill-color: #174EA6;\n",
              "      --disabled-fill-color: #AAA;\n",
              "      --disabled-bg-color: #DDD;\n",
              "  }\n",
              "\n",
              "  [theme=dark] .colab-df-quickchart {\n",
              "      --bg-color: #3B4455;\n",
              "      --fill-color: #D2E3FC;\n",
              "      --hover-bg-color: #434B5C;\n",
              "      --hover-fill-color: #FFFFFF;\n",
              "      --disabled-bg-color: #3B4455;\n",
              "      --disabled-fill-color: #666;\n",
              "  }\n",
              "\n",
              "  .colab-df-quickchart {\n",
              "    background-color: var(--bg-color);\n",
              "    border: none;\n",
              "    border-radius: 50%;\n",
              "    cursor: pointer;\n",
              "    display: none;\n",
              "    fill: var(--fill-color);\n",
              "    height: 32px;\n",
              "    padding: 0;\n",
              "    width: 32px;\n",
              "  }\n",
              "\n",
              "  .colab-df-quickchart:hover {\n",
              "    background-color: var(--hover-bg-color);\n",
              "    box-shadow: 0 1px 2px rgba(60, 64, 67, 0.3), 0 1px 3px 1px rgba(60, 64, 67, 0.15);\n",
              "    fill: var(--button-hover-fill-color);\n",
              "  }\n",
              "\n",
              "  .colab-df-quickchart-complete:disabled,\n",
              "  .colab-df-quickchart-complete:disabled:hover {\n",
              "    background-color: var(--disabled-bg-color);\n",
              "    fill: var(--disabled-fill-color);\n",
              "    box-shadow: none;\n",
              "  }\n",
              "\n",
              "  .colab-df-spinner {\n",
              "    border: 2px solid var(--fill-color);\n",
              "    border-color: transparent;\n",
              "    border-bottom-color: var(--fill-color);\n",
              "    animation:\n",
              "      spin 1s steps(1) infinite;\n",
              "  }\n",
              "\n",
              "  @keyframes spin {\n",
              "    0% {\n",
              "      border-color: transparent;\n",
              "      border-bottom-color: var(--fill-color);\n",
              "      border-left-color: var(--fill-color);\n",
              "    }\n",
              "    20% {\n",
              "      border-color: transparent;\n",
              "      border-left-color: var(--fill-color);\n",
              "      border-top-color: var(--fill-color);\n",
              "    }\n",
              "    30% {\n",
              "      border-color: transparent;\n",
              "      border-left-color: var(--fill-color);\n",
              "      border-top-color: var(--fill-color);\n",
              "      border-right-color: var(--fill-color);\n",
              "    }\n",
              "    40% {\n",
              "      border-color: transparent;\n",
              "      border-right-color: var(--fill-color);\n",
              "      border-top-color: var(--fill-color);\n",
              "    }\n",
              "    60% {\n",
              "      border-color: transparent;\n",
              "      border-right-color: var(--fill-color);\n",
              "    }\n",
              "    80% {\n",
              "      border-color: transparent;\n",
              "      border-right-color: var(--fill-color);\n",
              "      border-bottom-color: var(--fill-color);\n",
              "    }\n",
              "    90% {\n",
              "      border-color: transparent;\n",
              "      border-bottom-color: var(--fill-color);\n",
              "    }\n",
              "  }\n",
              "</style>\n",
              "\n",
              "  <script>\n",
              "    async function quickchart(key) {\n",
              "      const quickchartButtonEl =\n",
              "        document.querySelector('#' + key + ' button');\n",
              "      quickchartButtonEl.disabled = true;  // To prevent multiple clicks.\n",
              "      quickchartButtonEl.classList.add('colab-df-spinner');\n",
              "      try {\n",
              "        const charts = await google.colab.kernel.invokeFunction(\n",
              "            'suggestCharts', [key], {});\n",
              "      } catch (error) {\n",
              "        console.error('Error during call to suggestCharts:', error);\n",
              "      }\n",
              "      quickchartButtonEl.classList.remove('colab-df-spinner');\n",
              "      quickchartButtonEl.classList.add('colab-df-quickchart-complete');\n",
              "    }\n",
              "    (() => {\n",
              "      let quickchartButtonEl =\n",
              "        document.querySelector('#df-9eb78896-3cfc-4f7d-a4b3-46b800d4235b button');\n",
              "      quickchartButtonEl.style.display =\n",
              "        google.colab.kernel.accessAllowed ? 'block' : 'none';\n",
              "    })();\n",
              "  </script>\n",
              "</div>\n",
              "    </div>\n",
              "  </div>\n"
            ]
          },
          "metadata": {},
          "execution_count": 105
        }
      ],
      "id": "m4m-3tHvXbwB"
    },
    {
      "cell_type": "code",
      "source": [],
      "metadata": {
        "id": "gnef92NDYPwN"
      },
      "id": "gnef92NDYPwN",
      "execution_count": null,
      "outputs": []
    },
    {
      "cell_type": "markdown",
      "source": [
        "# Covtype"
      ],
      "metadata": {
        "id": "518ZyqpyaT7F"
      },
      "id": "518ZyqpyaT7F"
    },
    {
      "cell_type": "code",
      "source": [
        "rand_indexes = np.random.randint(0, X[0].shape[0], 10000)"
      ],
      "metadata": {
        "id": "tVk2OA15aQ_2"
      },
      "execution_count": 93,
      "outputs": [],
      "id": "tVk2OA15aQ_2"
    },
    {
      "cell_type": "code",
      "source": [
        "X_sample = X[0][rand_indexes, :]\n",
        "y_sample = y[0][rand_indexes]"
      ],
      "metadata": {
        "colab": {
          "base_uri": "https://localhost:8080/",
          "height": 197
        },
        "id": "m6mUIro2aQ_3",
        "outputId": "29e3d523-b3c7-44d7-bdd5-880e8ff77b16"
      },
      "execution_count": 94,
      "outputs": [
        {
          "output_type": "error",
          "ename": "IndexError",
          "evalue": "ignored",
          "traceback": [
            "\u001b[0;31m---------------------------------------------------------------------------\u001b[0m",
            "\u001b[0;31mIndexError\u001b[0m                                Traceback (most recent call last)",
            "\u001b[0;32m<ipython-input-94-ea38e1fb5a9e>\u001b[0m in \u001b[0;36m<cell line: 1>\u001b[0;34m()\u001b[0m\n\u001b[0;32m----> 1\u001b[0;31m \u001b[0mX_sample\u001b[0m \u001b[0;34m=\u001b[0m \u001b[0mX_heloc\u001b[0m\u001b[0;34m[\u001b[0m\u001b[0mrand_indexes\u001b[0m\u001b[0;34m,\u001b[0m \u001b[0;34m:\u001b[0m\u001b[0;34m]\u001b[0m\u001b[0;34m\u001b[0m\u001b[0;34m\u001b[0m\u001b[0m\n\u001b[0m\u001b[1;32m      2\u001b[0m \u001b[0my_sample\u001b[0m \u001b[0;34m=\u001b[0m \u001b[0my_heloc\u001b[0m\u001b[0;34m[\u001b[0m\u001b[0mrand_indexes\u001b[0m\u001b[0;34m]\u001b[0m\u001b[0;34m\u001b[0m\u001b[0;34m\u001b[0m\u001b[0m\n",
            "\u001b[0;31mIndexError\u001b[0m: index 40098 is out of bounds for axis 0 with size 9413"
          ]
        }
      ],
      "id": "m6mUIro2aQ_3"
    },
    {
      "cell_type": "code",
      "source": [
        "# Define the parameter grid for Random Search CV\n",
        "param_grid = {\n",
        "    'n_estimators': [100, 200, 300],  # Number of trees in the forest\n",
        "    'max_depth': [10, 20, 30],  # Maximum depth of the tree\n",
        "    'min_samples_split': [2, 5, 10],  # Minimum number of samples required to split an internal node\n",
        "    'min_samples_leaf': [1, 2, 4],  # Minimum number of samples required to be at a leaf node\n",
        "    'bootstrap': [True, False]  # Method of selecting samples for training each tree\n",
        "}\n",
        "\n",
        "# Initialize a Random Forest classifier\n",
        "rf = RandomForestClassifier()\n",
        "\n",
        "# Initialize GridSearchCV\n",
        "rf_random = RandomizedSearchCV(estimator = rf, param_distributions = param_grid, n_iter = 10, cv = 2, verbose=2, random_state=42, n_jobs = -1)\n",
        "\n",
        "# Fit the grid search to the data\n",
        "rf_random.fit(X_sample, y_sample)\n",
        "\n",
        "# Best parameters and best score\n",
        "print(\"Best parameters found: \", rf_random.best_params_)\n",
        "print(\"Best cross-validation score: {:.4f}\".format(rf_random.best_score_))\n",
        "\n",
        "\n",
        "\n"
      ],
      "metadata": {
        "colab": {
          "base_uri": "https://localhost:8080/"
        },
        "outputId": "9c81d75d-b047-47bf-b25c-dae637551689",
        "id": "zkJOTHCmaQ_3"
      },
      "execution_count": null,
      "outputs": [
        {
          "output_type": "stream",
          "name": "stdout",
          "text": [
            "Fitting 2 folds for each of 10 candidates, totalling 20 fits\n"
          ]
        },
        {
          "output_type": "stream",
          "name": "stderr",
          "text": [
            "/usr/local/lib/python3.10/dist-packages/sklearn/model_selection/_search.py:909: DataConversionWarning: A column-vector y was passed when a 1d array was expected. Please change the shape of y to (n_samples,), for example using ravel().\n",
            "  self.best_estimator_.fit(X, y, **fit_params)\n"
          ]
        },
        {
          "output_type": "stream",
          "name": "stdout",
          "text": [
            "Best parameters found:  {'n_estimators': 300, 'min_samples_split': 5, 'min_samples_leaf': 4, 'max_depth': 30, 'bootstrap': False}\n",
            "Best cross-validation score: 1.0000\n"
          ]
        }
      ],
      "id": "zkJOTHCmaQ_3"
    },
    {
      "cell_type": "code",
      "execution_count": null,
      "metadata": {
        "colab": {
          "base_uri": "https://localhost:8080/"
        },
        "outputId": "da4f9523-9331-4ea3-9825-e9b7ccb1cac3",
        "id": "JbTbbd4oaQ_3"
      },
      "outputs": [
        {
          "output_type": "stream",
          "name": "stdout",
          "text": [
            "Fitting 3 folds for each of 9 candidates, totalling 27 fits\n"
          ]
        },
        {
          "output_type": "stream",
          "name": "stderr",
          "text": [
            "/usr/local/lib/python3.10/dist-packages/sklearn/model_selection/_search.py:909: DataConversionWarning: A column-vector y was passed when a 1d array was expected. Please change the shape of y to (n_samples,), for example using ravel().\n",
            "  self.best_estimator_.fit(X, y, **fit_params)\n"
          ]
        },
        {
          "output_type": "stream",
          "name": "stdout",
          "text": [
            "Best parameters found:  {'bootstrap': False, 'max_depth': 20, 'min_samples_leaf': 4, 'min_samples_split': 5, 'n_estimators': 200}\n",
            "Best cross-validation score: 1.0000\n"
          ]
        }
      ],
      "source": [
        "# Define the parameter grid for GridSearchCV\n",
        "param_grid = {\n",
        "    'n_estimators': [200, 300, 400],  # Number of trees in the forest\n",
        "    'max_depth': [20, 30, 40],  # Maximum depth of the tree\n",
        "    'min_samples_split': [5],  # Minimum number of samples required to split an internal node\n",
        "    'min_samples_leaf': [4],  # Minimum number of samples required to be at a leaf node\n",
        "    'bootstrap': [False]  # Method of selecting samples for training each tree\n",
        "}\n",
        "\n",
        "# Initialize a Random Forest classifier\n",
        "rf = RandomForestClassifier()\n",
        "\n",
        "# Initialize GridSearchCV\n",
        "grid_search = GridSearchCV(estimator=rf, param_grid=param_grid, cv=3, n_jobs=-1, verbose=2)\n",
        "\n",
        "# Fit the grid search to the data\n",
        "grid_search.fit(X_sample, y_sample)\n",
        "\n",
        "# Best parameters and best score\n",
        "print(\"Best parameters found: \", grid_search.best_params_)\n",
        "print(\"Best cross-validation score: {:.4f}\".format(grid_search.best_score_))\n"
      ],
      "id": "JbTbbd4oaQ_3"
    },
    {
      "cell_type": "code",
      "source": [
        "param_grid = {\n",
        "    'n_estimators': 200,  # Number of trees in the forest\n",
        "    'max_depth': 20,  # Maximum depth of the tree\n",
        "    'min_samples_split': 5,  # Minimum number of samples required to split an internal node\n",
        "    'min_samples_leaf': 4,  # Minimum number of samples required to be at a leaf node\n",
        "    'bootstrap': False  # Method of selecting samples for training each tree\n",
        "}\n"
      ],
      "metadata": {
        "id": "8YiXZMfEaQ_3"
      },
      "execution_count": null,
      "outputs": [],
      "id": "8YiXZMfEaQ_3"
    },
    {
      "cell_type": "code",
      "source": [
        "clf = RandomForestClassifier(**param_grid)"
      ],
      "metadata": {
        "id": "RsZRrc9KaQ_3"
      },
      "execution_count": null,
      "outputs": [],
      "id": "RsZRrc9KaQ_3"
    },
    {
      "cell_type": "code",
      "source": [
        "clf.fit(X_heloc, y_heloc)"
      ],
      "metadata": {
        "colab": {
          "base_uri": "https://localhost:8080/",
          "height": 148
        },
        "outputId": "761e7d66-0c44-43d4-e4c4-c232b8a83452",
        "id": "NBr-8ExsaQ_3"
      },
      "execution_count": null,
      "outputs": [
        {
          "output_type": "stream",
          "name": "stderr",
          "text": [
            "<ipython-input-89-7149200829dc>:1: DataConversionWarning: A column-vector y was passed when a 1d array was expected. Please change the shape of y to (n_samples,), for example using ravel().\n",
            "  clf.fit(X_heloc, y_heloc)\n"
          ]
        },
        {
          "output_type": "execute_result",
          "data": {
            "text/plain": [
              "RandomForestClassifier(bootstrap=False, max_depth=20, min_samples_leaf=4,\n",
              "                       min_samples_split=5, n_estimators=200)"
            ],
            "text/html": [
              "<style>#sk-container-id-1 {color: black;background-color: white;}#sk-container-id-1 pre{padding: 0;}#sk-container-id-1 div.sk-toggleable {background-color: white;}#sk-container-id-1 label.sk-toggleable__label {cursor: pointer;display: block;width: 100%;margin-bottom: 0;padding: 0.3em;box-sizing: border-box;text-align: center;}#sk-container-id-1 label.sk-toggleable__label-arrow:before {content: \"▸\";float: left;margin-right: 0.25em;color: #696969;}#sk-container-id-1 label.sk-toggleable__label-arrow:hover:before {color: black;}#sk-container-id-1 div.sk-estimator:hover label.sk-toggleable__label-arrow:before {color: black;}#sk-container-id-1 div.sk-toggleable__content {max-height: 0;max-width: 0;overflow: hidden;text-align: left;background-color: #f0f8ff;}#sk-container-id-1 div.sk-toggleable__content pre {margin: 0.2em;color: black;border-radius: 0.25em;background-color: #f0f8ff;}#sk-container-id-1 input.sk-toggleable__control:checked~div.sk-toggleable__content {max-height: 200px;max-width: 100%;overflow: auto;}#sk-container-id-1 input.sk-toggleable__control:checked~label.sk-toggleable__label-arrow:before {content: \"▾\";}#sk-container-id-1 div.sk-estimator input.sk-toggleable__control:checked~label.sk-toggleable__label {background-color: #d4ebff;}#sk-container-id-1 div.sk-label input.sk-toggleable__control:checked~label.sk-toggleable__label {background-color: #d4ebff;}#sk-container-id-1 input.sk-hidden--visually {border: 0;clip: rect(1px 1px 1px 1px);clip: rect(1px, 1px, 1px, 1px);height: 1px;margin: -1px;overflow: hidden;padding: 0;position: absolute;width: 1px;}#sk-container-id-1 div.sk-estimator {font-family: monospace;background-color: #f0f8ff;border: 1px dotted black;border-radius: 0.25em;box-sizing: border-box;margin-bottom: 0.5em;}#sk-container-id-1 div.sk-estimator:hover {background-color: #d4ebff;}#sk-container-id-1 div.sk-parallel-item::after {content: \"\";width: 100%;border-bottom: 1px solid gray;flex-grow: 1;}#sk-container-id-1 div.sk-label:hover label.sk-toggleable__label {background-color: #d4ebff;}#sk-container-id-1 div.sk-serial::before {content: \"\";position: absolute;border-left: 1px solid gray;box-sizing: border-box;top: 0;bottom: 0;left: 50%;z-index: 0;}#sk-container-id-1 div.sk-serial {display: flex;flex-direction: column;align-items: center;background-color: white;padding-right: 0.2em;padding-left: 0.2em;position: relative;}#sk-container-id-1 div.sk-item {position: relative;z-index: 1;}#sk-container-id-1 div.sk-parallel {display: flex;align-items: stretch;justify-content: center;background-color: white;position: relative;}#sk-container-id-1 div.sk-item::before, #sk-container-id-1 div.sk-parallel-item::before {content: \"\";position: absolute;border-left: 1px solid gray;box-sizing: border-box;top: 0;bottom: 0;left: 50%;z-index: -1;}#sk-container-id-1 div.sk-parallel-item {display: flex;flex-direction: column;z-index: 1;position: relative;background-color: white;}#sk-container-id-1 div.sk-parallel-item:first-child::after {align-self: flex-end;width: 50%;}#sk-container-id-1 div.sk-parallel-item:last-child::after {align-self: flex-start;width: 50%;}#sk-container-id-1 div.sk-parallel-item:only-child::after {width: 0;}#sk-container-id-1 div.sk-dashed-wrapped {border: 1px dashed gray;margin: 0 0.4em 0.5em 0.4em;box-sizing: border-box;padding-bottom: 0.4em;background-color: white;}#sk-container-id-1 div.sk-label label {font-family: monospace;font-weight: bold;display: inline-block;line-height: 1.2em;}#sk-container-id-1 div.sk-label-container {text-align: center;}#sk-container-id-1 div.sk-container {/* jupyter's `normalize.less` sets `[hidden] { display: none; }` but bootstrap.min.css set `[hidden] { display: none !important; }` so we also need the `!important` here to be able to override the default hidden behavior on the sphinx rendered scikit-learn.org. See: https://github.com/scikit-learn/scikit-learn/issues/21755 */display: inline-block !important;position: relative;}#sk-container-id-1 div.sk-text-repr-fallback {display: none;}</style><div id=\"sk-container-id-1\" class=\"sk-top-container\"><div class=\"sk-text-repr-fallback\"><pre>RandomForestClassifier(bootstrap=False, max_depth=20, min_samples_leaf=4,\n",
              "                       min_samples_split=5, n_estimators=200)</pre><b>In a Jupyter environment, please rerun this cell to show the HTML representation or trust the notebook. <br />On GitHub, the HTML representation is unable to render, please try loading this page with nbviewer.org.</b></div><div class=\"sk-container\" hidden><div class=\"sk-item\"><div class=\"sk-estimator sk-toggleable\"><input class=\"sk-toggleable__control sk-hidden--visually\" id=\"sk-estimator-id-1\" type=\"checkbox\" checked><label for=\"sk-estimator-id-1\" class=\"sk-toggleable__label sk-toggleable__label-arrow\">RandomForestClassifier</label><div class=\"sk-toggleable__content\"><pre>RandomForestClassifier(bootstrap=False, max_depth=20, min_samples_leaf=4,\n",
              "                       min_samples_split=5, n_estimators=200)</pre></div></div></div></div></div>"
            ]
          },
          "metadata": {},
          "execution_count": 89
        }
      ],
      "id": "NBr-8ExsaQ_3"
    },
    {
      "cell_type": "code",
      "source": [
        "pred_heloc = clf.predict(heloc_test.values)"
      ],
      "metadata": {
        "id": "KgaoBvsOaQ_4"
      },
      "execution_count": null,
      "outputs": [],
      "id": "KgaoBvsOaQ_4"
    },
    {
      "cell_type": "code",
      "source": [
        "write_pred_file(pred_heloc, 'heloc', path+\"pred_heloc_rf.csv\")"
      ],
      "metadata": {
        "colab": {
          "base_uri": "https://localhost:8080/",
          "height": 424
        },
        "outputId": "59fc76ab-62a5-45a0-9ec7-57695c057b22",
        "id": "LSHfDNE4aQ_4"
      },
      "execution_count": null,
      "outputs": [
        {
          "output_type": "execute_result",
          "data": {
            "text/plain": [
              "        ID  Prediction\n",
              "0     3501           1\n",
              "1     3502           0\n",
              "2     3503           0\n",
              "3     3504           0\n",
              "4     3505           0\n",
              "...    ...         ...\n",
              "1041  4542           1\n",
              "1042  4543           0\n",
              "1043  4544           1\n",
              "1044  4545           1\n",
              "1045  4546           1\n",
              "\n",
              "[1046 rows x 2 columns]"
            ],
            "text/html": [
              "\n",
              "  <div id=\"df-c09f418c-0be9-43de-97d7-c686b8afccc1\" class=\"colab-df-container\">\n",
              "    <div>\n",
              "<style scoped>\n",
              "    .dataframe tbody tr th:only-of-type {\n",
              "        vertical-align: middle;\n",
              "    }\n",
              "\n",
              "    .dataframe tbody tr th {\n",
              "        vertical-align: top;\n",
              "    }\n",
              "\n",
              "    .dataframe thead th {\n",
              "        text-align: right;\n",
              "    }\n",
              "</style>\n",
              "<table border=\"1\" class=\"dataframe\">\n",
              "  <thead>\n",
              "    <tr style=\"text-align: right;\">\n",
              "      <th></th>\n",
              "      <th>ID</th>\n",
              "      <th>Prediction</th>\n",
              "    </tr>\n",
              "  </thead>\n",
              "  <tbody>\n",
              "    <tr>\n",
              "      <th>0</th>\n",
              "      <td>3501</td>\n",
              "      <td>1</td>\n",
              "    </tr>\n",
              "    <tr>\n",
              "      <th>1</th>\n",
              "      <td>3502</td>\n",
              "      <td>0</td>\n",
              "    </tr>\n",
              "    <tr>\n",
              "      <th>2</th>\n",
              "      <td>3503</td>\n",
              "      <td>0</td>\n",
              "    </tr>\n",
              "    <tr>\n",
              "      <th>3</th>\n",
              "      <td>3504</td>\n",
              "      <td>0</td>\n",
              "    </tr>\n",
              "    <tr>\n",
              "      <th>4</th>\n",
              "      <td>3505</td>\n",
              "      <td>0</td>\n",
              "    </tr>\n",
              "    <tr>\n",
              "      <th>...</th>\n",
              "      <td>...</td>\n",
              "      <td>...</td>\n",
              "    </tr>\n",
              "    <tr>\n",
              "      <th>1041</th>\n",
              "      <td>4542</td>\n",
              "      <td>1</td>\n",
              "    </tr>\n",
              "    <tr>\n",
              "      <th>1042</th>\n",
              "      <td>4543</td>\n",
              "      <td>0</td>\n",
              "    </tr>\n",
              "    <tr>\n",
              "      <th>1043</th>\n",
              "      <td>4544</td>\n",
              "      <td>1</td>\n",
              "    </tr>\n",
              "    <tr>\n",
              "      <th>1044</th>\n",
              "      <td>4545</td>\n",
              "      <td>1</td>\n",
              "    </tr>\n",
              "    <tr>\n",
              "      <th>1045</th>\n",
              "      <td>4546</td>\n",
              "      <td>1</td>\n",
              "    </tr>\n",
              "  </tbody>\n",
              "</table>\n",
              "<p>1046 rows × 2 columns</p>\n",
              "</div>\n",
              "    <div class=\"colab-df-buttons\">\n",
              "\n",
              "  <div class=\"colab-df-container\">\n",
              "    <button class=\"colab-df-convert\" onclick=\"convertToInteractive('df-c09f418c-0be9-43de-97d7-c686b8afccc1')\"\n",
              "            title=\"Convert this dataframe to an interactive table.\"\n",
              "            style=\"display:none;\">\n",
              "\n",
              "  <svg xmlns=\"http://www.w3.org/2000/svg\" height=\"24px\" viewBox=\"0 -960 960 960\">\n",
              "    <path d=\"M120-120v-720h720v720H120Zm60-500h600v-160H180v160Zm220 220h160v-160H400v160Zm0 220h160v-160H400v160ZM180-400h160v-160H180v160Zm440 0h160v-160H620v160ZM180-180h160v-160H180v160Zm440 0h160v-160H620v160Z\"/>\n",
              "  </svg>\n",
              "    </button>\n",
              "\n",
              "  <style>\n",
              "    .colab-df-container {\n",
              "      display:flex;\n",
              "      gap: 12px;\n",
              "    }\n",
              "\n",
              "    .colab-df-convert {\n",
              "      background-color: #E8F0FE;\n",
              "      border: none;\n",
              "      border-radius: 50%;\n",
              "      cursor: pointer;\n",
              "      display: none;\n",
              "      fill: #1967D2;\n",
              "      height: 32px;\n",
              "      padding: 0 0 0 0;\n",
              "      width: 32px;\n",
              "    }\n",
              "\n",
              "    .colab-df-convert:hover {\n",
              "      background-color: #E2EBFA;\n",
              "      box-shadow: 0px 1px 2px rgba(60, 64, 67, 0.3), 0px 1px 3px 1px rgba(60, 64, 67, 0.15);\n",
              "      fill: #174EA6;\n",
              "    }\n",
              "\n",
              "    .colab-df-buttons div {\n",
              "      margin-bottom: 4px;\n",
              "    }\n",
              "\n",
              "    [theme=dark] .colab-df-convert {\n",
              "      background-color: #3B4455;\n",
              "      fill: #D2E3FC;\n",
              "    }\n",
              "\n",
              "    [theme=dark] .colab-df-convert:hover {\n",
              "      background-color: #434B5C;\n",
              "      box-shadow: 0px 1px 3px 1px rgba(0, 0, 0, 0.15);\n",
              "      filter: drop-shadow(0px 1px 2px rgba(0, 0, 0, 0.3));\n",
              "      fill: #FFFFFF;\n",
              "    }\n",
              "  </style>\n",
              "\n",
              "    <script>\n",
              "      const buttonEl =\n",
              "        document.querySelector('#df-c09f418c-0be9-43de-97d7-c686b8afccc1 button.colab-df-convert');\n",
              "      buttonEl.style.display =\n",
              "        google.colab.kernel.accessAllowed ? 'block' : 'none';\n",
              "\n",
              "      async function convertToInteractive(key) {\n",
              "        const element = document.querySelector('#df-c09f418c-0be9-43de-97d7-c686b8afccc1');\n",
              "        const dataTable =\n",
              "          await google.colab.kernel.invokeFunction('convertToInteractive',\n",
              "                                                    [key], {});\n",
              "        if (!dataTable) return;\n",
              "\n",
              "        const docLinkHtml = 'Like what you see? Visit the ' +\n",
              "          '<a target=\"_blank\" href=https://colab.research.google.com/notebooks/data_table.ipynb>data table notebook</a>'\n",
              "          + ' to learn more about interactive tables.';\n",
              "        element.innerHTML = '';\n",
              "        dataTable['output_type'] = 'display_data';\n",
              "        await google.colab.output.renderOutput(dataTable, element);\n",
              "        const docLink = document.createElement('div');\n",
              "        docLink.innerHTML = docLinkHtml;\n",
              "        element.appendChild(docLink);\n",
              "      }\n",
              "    </script>\n",
              "  </div>\n",
              "\n",
              "\n",
              "<div id=\"df-d5af322b-2de1-4f40-b218-a27ec5c57de1\">\n",
              "  <button class=\"colab-df-quickchart\" onclick=\"quickchart('df-d5af322b-2de1-4f40-b218-a27ec5c57de1')\"\n",
              "            title=\"Suggest charts\"\n",
              "            style=\"display:none;\">\n",
              "\n",
              "<svg xmlns=\"http://www.w3.org/2000/svg\" height=\"24px\"viewBox=\"0 0 24 24\"\n",
              "     width=\"24px\">\n",
              "    <g>\n",
              "        <path d=\"M19 3H5c-1.1 0-2 .9-2 2v14c0 1.1.9 2 2 2h14c1.1 0 2-.9 2-2V5c0-1.1-.9-2-2-2zM9 17H7v-7h2v7zm4 0h-2V7h2v10zm4 0h-2v-4h2v4z\"/>\n",
              "    </g>\n",
              "</svg>\n",
              "  </button>\n",
              "\n",
              "<style>\n",
              "  .colab-df-quickchart {\n",
              "      --bg-color: #E8F0FE;\n",
              "      --fill-color: #1967D2;\n",
              "      --hover-bg-color: #E2EBFA;\n",
              "      --hover-fill-color: #174EA6;\n",
              "      --disabled-fill-color: #AAA;\n",
              "      --disabled-bg-color: #DDD;\n",
              "  }\n",
              "\n",
              "  [theme=dark] .colab-df-quickchart {\n",
              "      --bg-color: #3B4455;\n",
              "      --fill-color: #D2E3FC;\n",
              "      --hover-bg-color: #434B5C;\n",
              "      --hover-fill-color: #FFFFFF;\n",
              "      --disabled-bg-color: #3B4455;\n",
              "      --disabled-fill-color: #666;\n",
              "  }\n",
              "\n",
              "  .colab-df-quickchart {\n",
              "    background-color: var(--bg-color);\n",
              "    border: none;\n",
              "    border-radius: 50%;\n",
              "    cursor: pointer;\n",
              "    display: none;\n",
              "    fill: var(--fill-color);\n",
              "    height: 32px;\n",
              "    padding: 0;\n",
              "    width: 32px;\n",
              "  }\n",
              "\n",
              "  .colab-df-quickchart:hover {\n",
              "    background-color: var(--hover-bg-color);\n",
              "    box-shadow: 0 1px 2px rgba(60, 64, 67, 0.3), 0 1px 3px 1px rgba(60, 64, 67, 0.15);\n",
              "    fill: var(--button-hover-fill-color);\n",
              "  }\n",
              "\n",
              "  .colab-df-quickchart-complete:disabled,\n",
              "  .colab-df-quickchart-complete:disabled:hover {\n",
              "    background-color: var(--disabled-bg-color);\n",
              "    fill: var(--disabled-fill-color);\n",
              "    box-shadow: none;\n",
              "  }\n",
              "\n",
              "  .colab-df-spinner {\n",
              "    border: 2px solid var(--fill-color);\n",
              "    border-color: transparent;\n",
              "    border-bottom-color: var(--fill-color);\n",
              "    animation:\n",
              "      spin 1s steps(1) infinite;\n",
              "  }\n",
              "\n",
              "  @keyframes spin {\n",
              "    0% {\n",
              "      border-color: transparent;\n",
              "      border-bottom-color: var(--fill-color);\n",
              "      border-left-color: var(--fill-color);\n",
              "    }\n",
              "    20% {\n",
              "      border-color: transparent;\n",
              "      border-left-color: var(--fill-color);\n",
              "      border-top-color: var(--fill-color);\n",
              "    }\n",
              "    30% {\n",
              "      border-color: transparent;\n",
              "      border-left-color: var(--fill-color);\n",
              "      border-top-color: var(--fill-color);\n",
              "      border-right-color: var(--fill-color);\n",
              "    }\n",
              "    40% {\n",
              "      border-color: transparent;\n",
              "      border-right-color: var(--fill-color);\n",
              "      border-top-color: var(--fill-color);\n",
              "    }\n",
              "    60% {\n",
              "      border-color: transparent;\n",
              "      border-right-color: var(--fill-color);\n",
              "    }\n",
              "    80% {\n",
              "      border-color: transparent;\n",
              "      border-right-color: var(--fill-color);\n",
              "      border-bottom-color: var(--fill-color);\n",
              "    }\n",
              "    90% {\n",
              "      border-color: transparent;\n",
              "      border-bottom-color: var(--fill-color);\n",
              "    }\n",
              "  }\n",
              "</style>\n",
              "\n",
              "  <script>\n",
              "    async function quickchart(key) {\n",
              "      const quickchartButtonEl =\n",
              "        document.querySelector('#' + key + ' button');\n",
              "      quickchartButtonEl.disabled = true;  // To prevent multiple clicks.\n",
              "      quickchartButtonEl.classList.add('colab-df-spinner');\n",
              "      try {\n",
              "        const charts = await google.colab.kernel.invokeFunction(\n",
              "            'suggestCharts', [key], {});\n",
              "      } catch (error) {\n",
              "        console.error('Error during call to suggestCharts:', error);\n",
              "      }\n",
              "      quickchartButtonEl.classList.remove('colab-df-spinner');\n",
              "      quickchartButtonEl.classList.add('colab-df-quickchart-complete');\n",
              "    }\n",
              "    (() => {\n",
              "      let quickchartButtonEl =\n",
              "        document.querySelector('#df-d5af322b-2de1-4f40-b218-a27ec5c57de1 button');\n",
              "      quickchartButtonEl.style.display =\n",
              "        google.colab.kernel.accessAllowed ? 'block' : 'none';\n",
              "    })();\n",
              "  </script>\n",
              "</div>\n",
              "    </div>\n",
              "  </div>\n"
            ]
          },
          "metadata": {},
          "execution_count": 91
        }
      ],
      "id": "LSHfDNE4aQ_4"
    },
    {
      "cell_type": "code",
      "source": [],
      "metadata": {
        "id": "pucy0G75aQ_4"
      },
      "execution_count": null,
      "outputs": [],
      "id": "pucy0G75aQ_4"
    }
  ],
  "metadata": {
    "kernelspec": {
      "display_name": "Python 3 (ipykernel)",
      "language": "python",
      "name": "python3"
    },
    "language_info": {
      "codemirror_mode": {
        "name": "ipython",
        "version": 3
      },
      "file_extension": ".py",
      "mimetype": "text/x-python",
      "name": "python",
      "nbconvert_exporter": "python",
      "pygments_lexer": "ipython3",
      "version": "3.9.13"
    },
    "colab": {
      "provenance": [],
      "include_colab_link": true
    }
  },
  "nbformat": 4,
  "nbformat_minor": 5
}