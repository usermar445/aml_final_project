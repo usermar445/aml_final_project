{
 "cells": [
  {
   "cell_type": "code",
   "execution_count": 1,
   "id": "b8ef8ec3",
   "metadata": {},
   "outputs": [],
   "source": [
    "import pandas as pd\n",
    "from sklearn.feature_selection import SelectKBest, f_regression"
   ]
  },
  {
   "cell_type": "code",
   "execution_count": 2,
   "id": "70887022",
   "metadata": {},
   "outputs": [],
   "source": [
    "df1 = pd.read_csv('heloc_train.csv')\n",
    "df2 = pd.read_csv('covtype_train.csv')\n",
    "df3 = pd.read_csv('higgs_train.csv')\n"
   ]
  },
  {
   "cell_type": "code",
   "execution_count": 6,
   "id": "3c126d2b",
   "metadata": {},
   "outputs": [],
   "source": [
    "df1 = pd.get_dummies(df1, columns=['RiskPerformance'], drop_first=True)"
   ]
  },
  {
   "cell_type": "code",
   "execution_count": 8,
   "id": "ac76f6f0",
   "metadata": {},
   "outputs": [],
   "source": [
    "df1[\"RiskPerformance_Good\"] = df1[\"RiskPerformance_Good\"].astype(int)"
   ]
  },
  {
   "cell_type": "code",
   "execution_count": 10,
   "id": "0d92ab73",
   "metadata": {},
   "outputs": [],
   "source": [
    "df3['label_bin'] = df3['Label'].apply(lambda x: 0 if x == 'b' else 1)"
   ]
  },
  {
   "cell_type": "code",
   "execution_count": 11,
   "id": "f45d8153",
   "metadata": {},
   "outputs": [],
   "source": [
    "df3 = df3.drop('EventId', axis=1)\n",
    "df3 = df3.drop(columns=['Label'])"
   ]
  },
  {
   "cell_type": "code",
   "execution_count": 12,
   "id": "6897aaae",
   "metadata": {},
   "outputs": [],
   "source": [
    "k_best = 10  # Change this to the desired number of features\n",
    "feature_selector = SelectKBest(f_regression, k=k_best)\n",
    "\n",
    "selected_columns_df1 = pd.DataFrame(feature_selector.fit_transform(df1.drop('RiskPerformance_Good', axis=1), df1['RiskPerformance_Good']))\n",
    "selected_columns_df2 = pd.DataFrame(feature_selector.fit_transform(df2.drop('Cover_Type', axis=1), df2['Cover_Type']))\n",
    "selected_columns_df3 = pd.DataFrame(feature_selector.fit_transform(df3.drop('label_bin', axis=1), df3['label_bin']))\n"
   ]
  },
  {
   "cell_type": "code",
   "execution_count": 13,
   "id": "f523d3dc",
   "metadata": {},
   "outputs": [],
   "source": [
    "combined_df = pd.concat([selected_columns_df1, selected_columns_df2, selected_columns_df3], axis=1)\n",
    "combined_df.to_csv('combined_file_with_selected_features.csv', index=False)"
   ]
  },
  {
   "cell_type": "code",
   "execution_count": null,
   "id": "633a1a14",
   "metadata": {},
   "outputs": [],
   "source": []
  }
 ],
 "metadata": {
  "kernelspec": {
   "display_name": "Python 3 (ipykernel)",
   "language": "python",
   "name": "python3"
  },
  "language_info": {
   "codemirror_mode": {
    "name": "ipython",
    "version": 3
   },
   "file_extension": ".py",
   "mimetype": "text/x-python",
   "name": "python",
   "nbconvert_exporter": "python",
   "pygments_lexer": "ipython3",
   "version": "3.8.18"
  }
 },
 "nbformat": 4,
 "nbformat_minor": 5
}
